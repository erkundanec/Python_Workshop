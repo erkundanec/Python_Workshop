{
 "cells": [
  {
   "cell_type": "markdown",
   "metadata": {
    "toc": true
   },
   "source": [
    "<h1>Table of Contents<span class=\"tocSkip\"></span></h1>\n",
    "<div class=\"toc\"><ul class=\"toc-item\"><li><span><a href=\"#Calculator\" data-toc-modified-id=\"Calculator-1\"><span class=\"toc-item-num\">1&nbsp;&nbsp;</span>Calculator</a></span></li><li><span><a href=\"#Running-Python-Script-(.py-file)\" data-toc-modified-id=\"Running-Python-Script-(.py-file)-2\"><span class=\"toc-item-num\">2&nbsp;&nbsp;</span>Running Python Script (.py file)</a></span></li><li><span><a href=\"#Python-Variables-\" data-toc-modified-id=\"Python-Variables--3\"><span class=\"toc-item-num\">3&nbsp;&nbsp;</span>Python Variables <a class=\"anchor\" id=\"Python_var\"></a></a></span><ul class=\"toc-item\"><li><span><a href=\"#Variable-assignment-\" data-toc-modified-id=\"Variable-assignment--3.1\"><span class=\"toc-item-num\">3.1&nbsp;&nbsp;</span>Variable assignment <a class=\"anchor\" id=\"variable_assig\"></a></a></span></li><li><span><a href=\"#Assigning-values-to-multiple-variables.\" data-toc-modified-id=\"Assigning-values-to-multiple-variables.-3.2\"><span class=\"toc-item-num\">3.2&nbsp;&nbsp;</span>Assigning values to multiple variables.</a></span></li><li><span><a href=\"#Constants\" data-toc-modified-id=\"Constants-3.3\"><span class=\"toc-item-num\">3.3&nbsp;&nbsp;</span>Constants</a></span></li></ul></li><li><span><a href=\"#Python-Tokens\" data-toc-modified-id=\"Python-Tokens-4\"><span class=\"toc-item-num\">4&nbsp;&nbsp;</span>Python Tokens</a></span><ul class=\"toc-item\"><li><span><a href=\"#Keywords\" data-toc-modified-id=\"Keywords-4.1\"><span class=\"toc-item-num\">4.1&nbsp;&nbsp;</span>Keywords</a></span></li><li><span><a href=\"#Identifiers\" data-toc-modified-id=\"Identifiers-4.2\"><span class=\"toc-item-num\">4.2&nbsp;&nbsp;</span>Identifiers</a></span><ul class=\"toc-item\"><li><span><a href=\"#Rules-for-naming-the-identifiers\" data-toc-modified-id=\"Rules-for-naming-the-identifiers-4.2.1\"><span class=\"toc-item-num\">4.2.1&nbsp;&nbsp;</span>Rules for naming the identifiers</a></span></li><li><span><a href=\"#No-special-character\" data-toc-modified-id=\"No-special-character-4.2.2\"><span class=\"toc-item-num\">4.2.2&nbsp;&nbsp;</span>No special character</a></span></li><li><span><a href=\"#cannot-start-with-numbers\" data-toc-modified-id=\"cannot-start-with-numbers-4.2.3\"><span class=\"toc-item-num\">4.2.3&nbsp;&nbsp;</span>cannot start with numbers</a></span></li><li><span><a href=\"#but-can-start-with-underscore-(_)\" data-toc-modified-id=\"but-can-start-with-underscore-(_)-4.2.4\"><span class=\"toc-item-num\">4.2.4&nbsp;&nbsp;</span>but can start with underscore (_)</a></span></li><li><span><a href=\"#Case-Sensitive\" data-toc-modified-id=\"Case-Sensitive-4.2.5\"><span class=\"toc-item-num\">4.2.5&nbsp;&nbsp;</span>Case Sensitive</a></span></li></ul></li><li><span><a href=\"#Literals\" data-toc-modified-id=\"Literals-4.3\"><span class=\"toc-item-num\">4.3&nbsp;&nbsp;</span>Literals</a></span><ul class=\"toc-item\"><li><span><a href=\"#String-Literals\" data-toc-modified-id=\"String-Literals-4.3.1\"><span class=\"toc-item-num\">4.3.1&nbsp;&nbsp;</span>String Literals</a></span></li><li><span><a href=\"#Numeric-Literals\" data-toc-modified-id=\"Numeric-Literals-4.3.2\"><span class=\"toc-item-num\">4.3.2&nbsp;&nbsp;</span>Numeric Literals</a></span></li><li><span><a href=\"#Boolean-Literals\" data-toc-modified-id=\"Boolean-Literals-4.3.3\"><span class=\"toc-item-num\">4.3.3&nbsp;&nbsp;</span>Boolean Literals</a></span></li><li><span><a href=\"#Special-Literals\" data-toc-modified-id=\"Special-Literals-4.3.4\"><span class=\"toc-item-num\">4.3.4&nbsp;&nbsp;</span>Special Literals</a></span></li><li><span><a href=\"#Note:\" data-toc-modified-id=\"Note:-4.3.5\"><span class=\"toc-item-num\">4.3.5&nbsp;&nbsp;</span>Note:</a></span></li></ul></li><li><span><a href=\"#Operators\" data-toc-modified-id=\"Operators-4.4\"><span class=\"toc-item-num\">4.4&nbsp;&nbsp;</span>Operators</a></span><ul class=\"toc-item\"><li><span><a href=\"#Assignment-Operator\" data-toc-modified-id=\"Assignment-Operator-4.4.1\"><span class=\"toc-item-num\">4.4.1&nbsp;&nbsp;</span>Assignment Operator</a></span></li><li><span><a href=\"#Assignment-Operator\" data-toc-modified-id=\"Assignment-Operator-4.4.2\"><span class=\"toc-item-num\">4.4.2&nbsp;&nbsp;</span>Assignment Operator</a></span></li><li><span><a href=\"#Relational-Operators\" data-toc-modified-id=\"Relational-Operators-4.4.3\"><span class=\"toc-item-num\">4.4.3&nbsp;&nbsp;</span>Relational Operators</a></span></li><li><span><a href=\"#Logical-Operators\" data-toc-modified-id=\"Logical-Operators-4.4.4\"><span class=\"toc-item-num\">4.4.4&nbsp;&nbsp;</span>Logical Operators</a></span></li><li><span><a href=\"#Bitwise-Operator\" data-toc-modified-id=\"Bitwise-Operator-4.4.5\"><span class=\"toc-item-num\">4.4.5&nbsp;&nbsp;</span>Bitwise Operator</a></span></li><li><span><a href=\"#Identity-Operator\" data-toc-modified-id=\"Identity-Operator-4.4.6\"><span class=\"toc-item-num\">4.4.6&nbsp;&nbsp;</span>Identity Operator</a></span></li><li><span><a href=\"#Membership-operator\" data-toc-modified-id=\"Membership-operator-4.4.7\"><span class=\"toc-item-num\">4.4.7&nbsp;&nbsp;</span>Membership operator</a></span></li></ul></li></ul></li><li><span><a href=\"#Accepting-User-Inputs\" data-toc-modified-id=\"Accepting-User-Inputs-5\"><span class=\"toc-item-num\">5&nbsp;&nbsp;</span>Accepting User Inputs</a></span></li></ul></div>"
   ]
  },
  {
   "cell_type": "markdown",
   "metadata": {},
   "source": [
    "## Calculator"
   ]
  },
  {
   "cell_type": "code",
   "execution_count": 1,
   "metadata": {},
   "outputs": [
    {
     "data": {
      "text/plain": [
       "5"
      ]
     },
     "execution_count": 1,
     "metadata": {},
     "output_type": "execute_result"
    }
   ],
   "source": [
    "2+3"
   ]
  },
  {
   "cell_type": "markdown",
   "metadata": {},
   "source": [
    "## Running Python Script (.py file)"
   ]
  },
  {
   "cell_type": "code",
   "execution_count": 2,
   "metadata": {},
   "outputs": [
    {
     "name": "stdout",
     "output_type": "stream",
     "text": [
      "[0.  0.1 0.2 0.3 0.4 0.5 0.6 0.7 0.8 0.9 1.  1.1 1.2 1.3 1.4 1.5 1.6 1.7\n",
      " 1.8 1.9 2.  2.1 2.2 2.3 2.4 2.5 2.6 2.7 2.8 2.9 3.  3.1 3.2 3.3 3.4 3.5\n",
      " 3.6 3.7 3.8 3.9 4.  4.1 4.2 4.3 4.4 4.5 4.6 4.7 4.8 4.9 5.  5.1 5.2 5.3\n",
      " 5.4 5.5 5.6 5.7 5.8 5.9 6.  6.1 6.2 6.3 6.4 6.5 6.6 6.7 6.8 6.9 7.  7.1\n",
      " 7.2 7.3 7.4 7.5 7.6 7.7 7.8 7.9 8.  8.1 8.2 8.3 8.4 8.5 8.6 8.7 8.8 8.9\n",
      " 9.  9.1 9.2 9.3 9.4]\n",
      "hello python\n"
     ]
    }
   ],
   "source": [
    "run Ex01.py"
   ]
  },
  {
   "cell_type": "markdown",
   "metadata": {},
   "source": [
    "## Python Variables <a class=\"anchor\" id=\"Python_var\"></a>\n",
    "A variable is a named location used to store data in the memory. Its value can be changed during the execution of the program."
   ]
  },
  {
   "cell_type": "markdown",
   "metadata": {},
   "source": [
    "### Variable assignment <a class=\"anchor\" id=\"variable_assig\"></a>\n",
    "In python, equal sign (=) is used to assign a value to a variable"
   ]
  },
  {
   "cell_type": "code",
   "execution_count": 3,
   "metadata": {},
   "outputs": [
    {
     "name": "stdout",
     "output_type": "stream",
     "text": [
      "2 4 8\n",
      "4 8 32\n"
     ]
    }
   ],
   "source": [
    "width = 2\n",
    "height = 4\n",
    "area=width*height\n",
    "print(width, height, area)\n",
    "\n",
    "width = 2*width\n",
    "height = 2*height\n",
    "area=width*height\n",
    "print(width, height, area)"
   ]
  },
  {
   "cell_type": "markdown",
   "metadata": {},
   "source": [
    "In interactive mode, the last printed expression is assigned to the variable _."
   ]
  },
  {
   "cell_type": "code",
   "execution_count": 4,
   "metadata": {},
   "outputs": [
    {
     "data": {
      "text/plain": [
       "32"
      ]
     },
     "execution_count": 4,
     "metadata": {},
     "output_type": "execute_result"
    }
   ],
   "source": [
    "area"
   ]
  },
  {
   "cell_type": "code",
   "execution_count": 5,
   "metadata": {},
   "outputs": [
    {
     "data": {
      "text/plain": [
       "42"
      ]
     },
     "execution_count": 5,
     "metadata": {},
     "output_type": "execute_result"
    }
   ],
   "source": [
    "10 + _"
   ]
  },
  {
   "cell_type": "markdown",
   "metadata": {},
   "source": [
    "### Assigning values to multiple variables."
   ]
  },
  {
   "cell_type": "code",
   "execution_count": 80,
   "metadata": {},
   "outputs": [
    {
     "name": "stdout",
     "output_type": "stream",
     "text": [
      "1 1\n",
      "1 5 Python\n"
     ]
    }
   ],
   "source": [
    "x = y = 1\n",
    "print(x,y)\n",
    "\n",
    "x, y, z = 1, 5, \"Python\"\n",
    "\n",
    "print(x,y,z)"
   ]
  },
  {
   "cell_type": "markdown",
   "metadata": {},
   "source": [
    "### Constants\n",
    "Similar to variable, constant is a named location used to store data in the memory. However, its value cannot be changed during the execution of the program."
   ]
  },
  {
   "cell_type": "code",
   "execution_count": 6,
   "metadata": {},
   "outputs": [
    {
     "name": "stdout",
     "output_type": "stream",
     "text": [
      "78.5\n",
      "314.0\n"
     ]
    }
   ],
   "source": [
    "r = 5\n",
    "pi = 3.14\n",
    "area = pi*r*r\n",
    "print(area)\n",
    "\n",
    "r = 10\n",
    "area = pi*r*r\n",
    "print(area)"
   ]
  },
  {
   "cell_type": "markdown",
   "metadata": {},
   "source": [
    "Here <b>pi</b> is a constant, whereas <b>r</b> is a variable."
   ]
  },
  {
   "cell_type": "markdown",
   "metadata": {},
   "source": [
    "## Python Tokens\n",
    "Smallest individual element of a program is called as Token. Everything you see inside a program is a token.\n",
    "- **Keywords**\n",
    "- **Identifiers**\n",
    "- **Literals**\n",
    "- **Operators**"
   ]
  },
  {
   "cell_type": "markdown",
   "metadata": {},
   "source": [
    "### Keywords\n",
    "Python keywords are reserved words which convey special meaning to compiler/interpreter.\n",
    "It cannot be used as a variable name.\n",
    "\n",
    "For example:  True, False, None, as, asset, if, elif, global, lambda"
   ]
  },
  {
   "cell_type": "code",
   "execution_count": 7,
   "metadata": {},
   "outputs": [
    {
     "ename": "SyntaxError",
     "evalue": "can't assign to keyword (<ipython-input-7-761ed92244d3>, line 1)",
     "output_type": "error",
     "traceback": [
      "\u001b[0;36m  File \u001b[0;32m\"<ipython-input-7-761ed92244d3>\"\u001b[0;36m, line \u001b[0;32m1\u001b[0m\n\u001b[0;31m    True = 4\u001b[0m\n\u001b[0m            ^\u001b[0m\n\u001b[0;31mSyntaxError\u001b[0m\u001b[0;31m:\u001b[0m can't assign to keyword\n"
     ]
    }
   ],
   "source": [
    "True = 4"
   ]
  },
  {
   "cell_type": "markdown",
   "metadata": {},
   "source": [
    "### Identifiers\n",
    "Identifiers are the names used for variable, function, class, and object.\n",
    "\n",
    "#### Rules for naming the identifiers\n",
    "<ol>\n",
    "<li>No special character except underscore (_) </li>\n",
    "<li>keyword cannot be used as identifier </li>\n",
    "<li>cannot start with numbers but underscore (_) </li>\n",
    "<li>case sensitive </li>\n",
    "</ol>"
   ]
  },
  {
   "cell_type": "markdown",
   "metadata": {},
   "source": [
    "#### No special character "
   ]
  },
  {
   "cell_type": "code",
   "execution_count": 8,
   "metadata": {},
   "outputs": [
    {
     "ename": "SyntaxError",
     "evalue": "starred assignment target must be in a list or tuple (<ipython-input-8-c7cb657edc92>, line 4)",
     "output_type": "error",
     "traceback": [
      "\u001b[0;36m  File \u001b[0;32m\"<ipython-input-8-c7cb657edc92>\"\u001b[0;36m, line \u001b[0;32m4\u001b[0m\n\u001b[0;31mSyntaxError\u001b[0m\u001b[0;31m:\u001b[0m starred assignment target must be in a list or tuple\n"
     ]
    }
   ],
   "source": [
    "*Var = 2.3"
   ]
  },
  {
   "cell_type": "code",
   "execution_count": 9,
   "metadata": {},
   "outputs": [
    {
     "ename": "SyntaxError",
     "evalue": "can't assign to operator (<ipython-input-9-dd49fd2261b7>, line 1)",
     "output_type": "error",
     "traceback": [
      "\u001b[0;36m  File \u001b[0;32m\"<ipython-input-9-dd49fd2261b7>\"\u001b[0;36m, line \u001b[0;32m1\u001b[0m\n\u001b[0;31m    v@r = 2\u001b[0m\n\u001b[0m           ^\u001b[0m\n\u001b[0;31mSyntaxError\u001b[0m\u001b[0;31m:\u001b[0m can't assign to operator\n"
     ]
    }
   ],
   "source": [
    "v@r = 2"
   ]
  },
  {
   "cell_type": "markdown",
   "metadata": {},
   "source": [
    "#### cannot start with numbers"
   ]
  },
  {
   "cell_type": "code",
   "execution_count": 10,
   "metadata": {},
   "outputs": [
    {
     "ename": "SyntaxError",
     "evalue": "invalid syntax (<ipython-input-10-755beefad503>, line 1)",
     "output_type": "error",
     "traceback": [
      "\u001b[0;36m  File \u001b[0;32m\"<ipython-input-10-755beefad503>\"\u001b[0;36m, line \u001b[0;32m1\u001b[0m\n\u001b[0;31m    1Var = 3\u001b[0m\n\u001b[0m       ^\u001b[0m\n\u001b[0;31mSyntaxError\u001b[0m\u001b[0;31m:\u001b[0m invalid syntax\n"
     ]
    }
   ],
   "source": [
    "1Var = 3"
   ]
  },
  {
   "cell_type": "markdown",
   "metadata": {},
   "source": [
    "#### but can start with underscore (_)"
   ]
  },
  {
   "cell_type": "code",
   "execution_count": 11,
   "metadata": {},
   "outputs": [
    {
     "name": "stdout",
     "output_type": "stream",
     "text": [
      "2.3\n"
     ]
    }
   ],
   "source": [
    "_Var = 2.3\n",
    "print(_Var)"
   ]
  },
  {
   "cell_type": "markdown",
   "metadata": {},
   "source": [
    "#### Case Sensitive"
   ]
  },
  {
   "cell_type": "code",
   "execution_count": 87,
   "metadata": {},
   "outputs": [
    {
     "name": "stdout",
     "output_type": "stream",
     "text": [
      "3\n"
     ]
    }
   ],
   "source": [
    "var = 3\n",
    "Var = 10\n",
    "print(var)"
   ]
  },
  {
   "cell_type": "markdown",
   "metadata": {},
   "source": [
    "Note that 10 is stored is <b>Var</b> having <b>V</b> in uppercase. However, we have printed <b>var</b> (<b>v</b> in lowercase). Therefore, output is 3."
   ]
  },
  {
   "cell_type": "markdown",
   "metadata": {},
   "source": [
    "### Literals\n",
    "Literals are used to define the data as a variable (or) constants. Python has 6 literals tokens.\n",
    "<ol>\n",
    "<li>String literals </li>\n",
    "<li>Numeric Literals </li>\n",
    "<li>Boolean Literals </li>\n",
    "<li>Special Literals </li>\n",
    "</ol>"
   ]
  },
  {
   "cell_type": "markdown",
   "metadata": {},
   "source": [
    "#### String Literals\n",
    "Formed by enclosing text in single or double quotes."
   ]
  },
  {
   "cell_type": "code",
   "execution_count": 12,
   "metadata": {},
   "outputs": [
    {
     "name": "stdout",
     "output_type": "stream",
     "text": [
      "hello world\n"
     ]
    }
   ],
   "source": [
    "str1 = 'hello'\n",
    "str2 = \"world\"\n",
    "print(str1,str2)"
   ]
  },
  {
   "cell_type": "markdown",
   "metadata": {},
   "source": [
    "#### Numeric Literals\n",
    "Integers, Long, Float, and Complex are numeric literals."
   ]
  },
  {
   "cell_type": "code",
   "execution_count": 13,
   "metadata": {},
   "outputs": [
    {
     "name": "stdout",
     "output_type": "stream",
     "text": [
      "10\n"
     ]
    }
   ],
   "source": [
    "x = 10\n",
    "print(x)"
   ]
  },
  {
   "cell_type": "markdown",
   "metadata": {},
   "source": [
    "#### Boolean Literals\n",
    "Can have only two values:\n",
    "\n",
    "- True\n",
    "- False"
   ]
  },
  {
   "cell_type": "code",
   "execution_count": 14,
   "metadata": {},
   "outputs": [
    {
     "name": "stdout",
     "output_type": "stream",
     "text": [
      "False\n"
     ]
    }
   ],
   "source": [
    "a = True\n",
    "b = False\n",
    "\n",
    "print(a and b)"
   ]
  },
  {
   "cell_type": "markdown",
   "metadata": {},
   "source": [
    "#### Special Literals\n",
    "Python has one spcial literal: <b>None</b>. None specifies the field that is not created.\n",
    "\n",
    "The <b>None</b> keyword is used to define a null variable or an object. In Python, <b>None</b> keyword is an object, and it is a data type of the class NoneType.\n",
    "\n",
    "We can assign <b>None</b> to any variable, but you can not create other NoneType objects."
   ]
  },
  {
   "cell_type": "code",
   "execution_count": 15,
   "metadata": {},
   "outputs": [
    {
     "name": "stdout",
     "output_type": "stream",
     "text": [
      "20 None\n"
     ]
    }
   ],
   "source": [
    "var1 = 20\n",
    "var2 = None\n",
    "print(var1,var2)"
   ]
  },
  {
   "cell_type": "markdown",
   "metadata": {},
   "source": [
    "#### Note:\n",
    "\n",
    "<ul>\n",
    "    <li> <b>None</b> is not the same as False.</li>\n",
    "    <li> <b>None</b> is not 0. </li>\n",
    "    <li> <b>None</b> is not an empty string. </li>\n",
    "    <li> Comparing <b>None</b> to anything will always return False except <b>None</b> itself. </li>\n",
    "</ul>"
   ]
  },
  {
   "cell_type": "markdown",
   "metadata": {},
   "source": [
    "### Operators\n",
    "Operators perform operation on operands.\n",
    "\n",
    "1. **Arithmetic Operator**\n",
    "2. **Assignment Operator**\n",
    "3. **Relational Operators**\n",
    "4. **Logical Operator**\n",
    "5. **Bitwise Operator**\n",
    "6. **Identity Operator**\n",
    "7. **Membership Operator**"
   ]
  },
  {
   "cell_type": "markdown",
   "metadata": {},
   "source": [
    "#### Assignment Operator\n",
    "Takes two operands to perform operation.\n",
    "\n",
    "| Symbol | Task Performed |\n",
    "|----|---|\n",
    "| +  | Addition |\n",
    "| -  | Subtraction |\n",
    "| /  | division |\n",
    "| %  | mod |\n",
    "| *  | multiplication |\n",
    "| //  | floor division |\n",
    "| **  | to the power of |"
   ]
  },
  {
   "cell_type": "code",
   "execution_count": 16,
   "metadata": {},
   "outputs": [],
   "source": [
    "x = 3"
   ]
  },
  {
   "cell_type": "code",
   "execution_count": 17,
   "metadata": {},
   "outputs": [
    {
     "name": "stdout",
     "output_type": "stream",
     "text": [
      "4\n",
      "2\n",
      "6\n",
      "1\n",
      "1.5\n",
      "1\n",
      "9\n"
     ]
    }
   ],
   "source": [
    "print(x + 1)   # Addition\n",
    "print(x - 1)   # Subtraction\n",
    "print(x * 2)   # Multiplication\n",
    "print(x % 2)   # Modulor (returns remainder)\n",
    "print(x / 2)   # Division\n",
    "print(x // 2)  # Floor Division (# returns quotient)\n",
    "print(x ** 2)  # Exponentiation   also used as pow(x,2)"
   ]
  },
  {
   "cell_type": "markdown",
   "metadata": {},
   "source": [
    "#### Assignment Operator\n",
    "Assign a value to a variable.\n",
    "\n",
    "| Symbol | Operation |\n",
    "|----|---|\n",
    "| = | x = 1 |\n",
    "| +=  | x = x + 1 |\n",
    "| -= | x = x - 1 |\n",
    "| \\*= | x = x \\* 1 |"
   ]
  },
  {
   "cell_type": "code",
   "execution_count": 18,
   "metadata": {},
   "outputs": [
    {
     "name": "stdout",
     "output_type": "stream",
     "text": [
      "2\n",
      "-1\n",
      "-3\n"
     ]
    }
   ],
   "source": [
    "# Assignment Operator\n",
    "z = 1\n",
    "z += 1\n",
    "print(z)\n",
    "z -= 3\n",
    "print(z)\n",
    "z *= 3\n",
    "print(z)"
   ]
  },
  {
   "cell_type": "markdown",
   "metadata": {},
   "source": [
    "#### Relational Operators\n",
    "Perform comparison and returns True or False as output.\n",
    "\n",
    "| Symbol |Example|Output|\n",
    "|----|------|------|\n",
    "| == | x == y|True if both the operands are same, otherwise false|\n",
    "| !=  |x != y|True if operands are not same, otherwise false|\n",
    "| < |x < y|True if ASCII value of the first operand is less than the second one, otherwise false|\n",
    "| > |x > y|True if ASCII value of the first operand is greater than the second one, otherwise false|\n",
    "| <=  |x <= y|True if ASCII value of the first operand is less than or equal to the second one, otherwise false|\n",
    "| >=  | x >= y | True if ASCII value of the first operand is greater than the second one, otherwise false|"
   ]
  },
  {
   "cell_type": "code",
   "execution_count": 19,
   "metadata": {},
   "outputs": [
    {
     "name": "stdout",
     "output_type": "stream",
     "text": [
      "x == y  is False\n",
      "x ~= y  is True\n",
      "x < y  is True\n",
      "x > y  is False\n",
      "x <= y  is True\n",
      "x >= y  is False\n"
     ]
    }
   ],
   "source": [
    "x = 2\n",
    "y = 3\n",
    "print('x == y  is', x == y)\n",
    "print('x ~= y  is', x != y)\n",
    "print('x < y  is', x < y)\n",
    "print('x > y  is', x > y)\n",
    "print('x <= y  is', x <= y)\n",
    "print('x >= y  is', x >= y)"
   ]
  },
  {
   "cell_type": "markdown",
   "metadata": {},
   "source": [
    "#### Logical Operators\n",
    "Perform logical operation and returns True or False as output.\n",
    "\n",
    "| Symbol | Example| Output |\n",
    "|----|-----|-----|\n",
    "| and | x and y | True if both the operands are true |\n",
    "| or  | x or y | True if either of the operands is true |\n",
    "| not  | not x | True if operand is false (complements the operand) |"
   ]
  },
  {
   "cell_type": "code",
   "execution_count": 1,
   "metadata": {},
   "outputs": [
    {
     "name": "stdout",
     "output_type": "stream",
     "text": [
      "3 <class 'int'>\n"
     ]
    }
   ],
   "source": [
    "x = 3\n",
    "print(x, type(x))"
   ]
  },
  {
   "cell_type": "code",
   "execution_count": 2,
   "metadata": {},
   "outputs": [
    {
     "name": "stdout",
     "output_type": "stream",
     "text": [
      "x and y is False\n",
      "x or y is True\n",
      "not x is False\n"
     ]
    }
   ],
   "source": [
    "x = True\n",
    "y = False\n",
    "\n",
    "print('x and y is',x and y)\n",
    "print('x or y is',x or y)\n",
    "print('not x is',not x)"
   ]
  },
  {
   "cell_type": "markdown",
   "metadata": {},
   "source": [
    "#### Bitwise Operator\n",
    "Perform bitwise calculation.\n",
    "\n",
    "x = 10 (0000 1010) and y = 4 (0000 0100)\n",
    "\n",
    "| Symbol | Task Performed |Example|\n",
    "|----|---|------|\n",
    "| &  | Bitwise And |x & y = 0 (0000 0000)|\n",
    "| \\|  | Bitwise OR |x \\| y = 14 (0000 1110)|\n",
    "| ^  | Bitwise XOR |x ^ y = 14 (0000 1110)|\n",
    "| ~  | Bitwise NOT |~x = -11 (1111 0101)|   (-128+64+32+16+0+4+0+1 = -11)\n",
    "| >>  | Bitwise Right shift |x >> 2 = 2 (0000 0010)|\n",
    "| <<  | Bitwise Left shift |x << 2 = 40 (0010 1000)|"
   ]
  },
  {
   "cell_type": "code",
   "execution_count": 22,
   "metadata": {},
   "outputs": [],
   "source": [
    "a = 2   # equivalent binary 10\n",
    "b = 3   # equivalent binary 11"
   ]
  },
  {
   "cell_type": "code",
   "execution_count": 23,
   "metadata": {},
   "outputs": [
    {
     "name": "stdout",
     "output_type": "stream",
     "text": [
      "2\n",
      "0b10\n"
     ]
    }
   ],
   "source": [
    "print(a & b)   # bitwise operation\n",
    "print(bin(a&b))  # convert to binary"
   ]
  },
  {
   "cell_type": "code",
   "execution_count": 24,
   "metadata": {},
   "outputs": [
    {
     "data": {
      "text/plain": [
       "1"
      ]
     },
     "execution_count": 24,
     "metadata": {},
     "output_type": "execute_result"
    }
   ],
   "source": [
    "a >> 1"
   ]
  },
  {
   "cell_type": "code",
   "execution_count": 25,
   "metadata": {},
   "outputs": [
    {
     "name": "stdout",
     "output_type": "stream",
     "text": [
      "2\n",
      "-3\n",
      "0b10\n",
      "-0b11\n"
     ]
    }
   ],
   "source": [
    "print(a)\n",
    "print(~a)\n",
    "print(bin(a))\n",
    "print(bin(~a))"
   ]
  },
  {
   "cell_type": "code",
   "execution_count": 26,
   "metadata": {},
   "outputs": [
    {
     "data": {
      "text/plain": [
       "2"
      ]
     },
     "execution_count": 26,
     "metadata": {},
     "output_type": "execute_result"
    }
   ],
   "source": [
    "5 >> 1"
   ]
  },
  {
   "cell_type": "markdown",
   "metadata": {},
   "source": [
    "|Decimal | Binary |\n",
    "|----|----|\n",
    "| 5 | 0000 0101 |\n",
    "\n",
    "\n",
    "\n",
    "                           Shifting the digits by 1 to the right and zero padding\n",
    "\n",
    "| Binary | Decimal |\n",
    "|----|----|\n",
    "|0000 0010 | 2 |"
   ]
  },
  {
   "cell_type": "code",
   "execution_count": 27,
   "metadata": {},
   "outputs": [
    {
     "data": {
      "text/plain": [
       "10"
      ]
     },
     "execution_count": 27,
     "metadata": {},
     "output_type": "execute_result"
    }
   ],
   "source": [
    "5 << 1"
   ]
  },
  {
   "cell_type": "markdown",
   "metadata": {},
   "source": [
    "|Decimal | Binary |\n",
    "|----|----|\n",
    "| 5 | 0000 0101 |\n",
    "\n",
    "\n",
    "\n",
    "                           Shifting the digits by 1 to the left and zero padding\n",
    "\n",
    "| Binary | Decimal |\n",
    "|----|----|\n",
    "|0000 1010 | 10 |"
   ]
  },
  {
   "cell_type": "markdown",
   "metadata": {},
   "source": [
    "#### Identity Operator\n",
    "Test if the two operands share an identity.\n",
    "\n",
    "| is | is not |\n",
    "|----|-----|"
   ]
  },
  {
   "cell_type": "code",
   "execution_count": 28,
   "metadata": {},
   "outputs": [
    {
     "name": "stdout",
     "output_type": "stream",
     "text": [
      "True\n",
      "False\n"
     ]
    }
   ],
   "source": [
    "a = 10\n",
    "\n",
    "print(type(a) is int)\n",
    "\n",
    "print(a is not 10)\n"
   ]
  },
  {
   "cell_type": "markdown",
   "metadata": {},
   "source": [
    "#### Membership operator\n",
    "Test whether a value is a member of a squecne (in , not in) and returns true or False."
   ]
  },
  {
   "cell_type": "code",
   "execution_count": 29,
   "metadata": {},
   "outputs": [
    {
     "name": "stdout",
     "output_type": "stream",
     "text": [
      "True\n"
     ]
    }
   ],
   "source": [
    "weather = ['sunny', 'cloudy', 'rainy']\n",
    "print('sunny' in weather)"
   ]
  },
  {
   "cell_type": "markdown",
   "metadata": {},
   "source": [
    "## Accepting User Inputs\n",
    "\n",
    "<b>input( )</b> accepts input and stores it as a string. Hence, if the user wants to input an integer, the code should convert the string to an integer and then proceed."
   ]
  },
  {
   "cell_type": "code",
   "execution_count": 106,
   "metadata": {},
   "outputs": [
    {
     "name": "stdout",
     "output_type": "stream",
     "text": [
      "Type something here and it will be stored in variable abc \t2\n"
     ]
    }
   ],
   "source": [
    "abc = input(\"Type something here and it will be stored in variable abc \\t\")"
   ]
  },
  {
   "cell_type": "code",
   "execution_count": 107,
   "metadata": {},
   "outputs": [
    {
     "name": "stdout",
     "output_type": "stream",
     "text": [
      "2 <class 'str'>\n"
     ]
    }
   ],
   "source": [
    "print(abc, type(abc))"
   ]
  },
  {
   "cell_type": "markdown",
   "metadata": {},
   "source": [
    "The following code is used for accepting only integer inputs."
   ]
  },
  {
   "cell_type": "code",
   "execution_count": 108,
   "metadata": {},
   "outputs": [
    {
     "name": "stdout",
     "output_type": "stream",
     "text": [
      "Only integer can be stored in variable abc \t2\n"
     ]
    }
   ],
   "source": [
    "abc1 =  int(input(\"Only integer can be stored in variable abc \\t\"))"
   ]
  },
  {
   "cell_type": "code",
   "execution_count": 109,
   "metadata": {},
   "outputs": [
    {
     "name": "stdout",
     "output_type": "stream",
     "text": [
      "2 <class 'int'>\n"
     ]
    }
   ],
   "source": [
    "print(abc1,type(abc1))"
   ]
  },
  {
   "cell_type": "markdown",
   "metadata": {},
   "source": [
    "Note that **type( )** returns the format or the type of a variable or a number"
   ]
  }
 ],
 "metadata": {
  "kernelspec": {
   "display_name": "Python 3",
   "language": "python",
   "name": "python3"
  },
  "language_info": {
   "codemirror_mode": {
    "name": "ipython",
    "version": 3
   },
   "file_extension": ".py",
   "mimetype": "text/x-python",
   "name": "python",
   "nbconvert_exporter": "python",
   "pygments_lexer": "ipython3",
   "version": "3.6.10"
  },
  "toc": {
   "base_numbering": 1,
   "nav_menu": {},
   "number_sections": true,
   "sideBar": true,
   "skip_h1_title": true,
   "title_cell": "Table of Contents",
   "title_sidebar": "Contents",
   "toc_cell": true,
   "toc_position": {},
   "toc_section_display": true,
   "toc_window_display": false
  }
 },
 "nbformat": 4,
 "nbformat_minor": 2
}
