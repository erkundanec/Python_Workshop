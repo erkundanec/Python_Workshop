{
 "cells": [
  {
   "cell_type": "markdown",
   "metadata": {
    "toc": true
   },
   "source": [
    "<h1>Table of Contents<span class=\"tocSkip\"></span></h1>\n",
    "<div class=\"toc\"><ul class=\"toc-item\"><li><span><a href=\"#What-is-Python?\" data-toc-modified-id=\"What-is-Python?-1\"><span class=\"toc-item-num\">1&nbsp;&nbsp;</span>What is Python?</a></span></li><li><span><a href=\"#Why-is-it-named-Python?\" data-toc-modified-id=\"Why-is-it-named-Python?-2\"><span class=\"toc-item-num\">2&nbsp;&nbsp;</span>Why is it named Python?</a></span></li><li><span><a href=\"#Why-Python?\" data-toc-modified-id=\"Why-Python?-3\"><span class=\"toc-item-num\">3&nbsp;&nbsp;</span>Why Python?</a></span></li><li><span><a href=\"#Various-Characteristics-of-Python\" data-toc-modified-id=\"Various-Characteristics-of-Python-4\"><span class=\"toc-item-num\">4&nbsp;&nbsp;</span>Various Characteristics of Python</a></span></li><li><span><a href=\"#Top-most-Application-of-Python\" data-toc-modified-id=\"Top-most-Application-of-Python-5\"><span class=\"toc-item-num\">5&nbsp;&nbsp;</span>Top most Application of Python</a></span></li></ul></div>"
   ]
  },
  {
   "cell_type": "markdown",
   "metadata": {},
   "source": [
    "## What is Python?"
   ]
  },
  {
   "cell_type": "markdown",
   "metadata": {},
   "source": [
    "Python is a general purpose, high level, interpreted and dynamically typed programming language created by Guido Van Rossum (Dutch Programmer).\n",
    "\n",
    "<img src=\"imgs/img004.png\" alt=\"Drawing\" style=\"width: 800px;\"/>\n",
    "\n",
    "- **General purpose**: A language designed to be used for writing software in various application domains without being restricted to a particular domain.\n",
    "\n",
    "- High level language: Uses natural language elements and automate significant areas of computing such as memory management and allocation.\n",
    "\n",
    "- Interpreted: Python script is saved and executed in the same format in which you created the script, as opposed to compiled languages where the code is first translated to a set of machine specific instructions and then saved as executable file.\n",
    "\n",
    "- Dynamically Typed: Python automatically infers or identifies the type of variable on the basis of what kind of data is assigned to the variable. Than means need not to write ``int a=2`` as in C++.\n",
    "\n"
   ]
  },
  {
   "cell_type": "markdown",
   "metadata": {},
   "source": [
    "## Why is it named Python?"
   ]
  },
  {
   "cell_type": "markdown",
   "metadata": {},
   "source": [
    "When he (Guido van Rossum) began implementing Python (during the 1989 Christmas holidays), Guido van Rossum was also reading the published scripts from “Monty Python’s Flying Circus”, a BBC comedy series from the 1970s. Van Rossum thought he needed a name that was short, unique, and slightly mysterious, so he decided to call the language Python. (Source: <a href=\"https://docs.python.org/3/faq/general.html\">Python Frequently Asked Questions</a> by Guido van Rossum and the Python development team, Release 3.8.2rc2)"
   ]
  },
  {
   "cell_type": "markdown",
   "metadata": {},
   "source": [
    "## Why Python?\n",
    "\n",
    "<img src=\"imgs/img001.png\" alt=\"Drawing\" style=\"width: 700px;\"/>\n",
    "\n",
    "- Easy to understand and learn because syntax are quite easier to understand even for beginners.\n",
    "- Absolutely free and open source language.\n",
    "- Fewer lines of code compare to other languages for the same task. (consume less time to read and write)\n",
    "- Highly used and recommended by Data Scientists. (In 2020, python has become one of the top preferable languages in Data Science.)\n",
    "\n",
    "- The biggest advantage is that Python has huge community. Whenever you are stuck somewhere in your problem, you can put your queries in front of the community.\n",
    "\n",
    "- It opens a carrier opportunity to many because Python can be used in any domain.\n",
    "\n"
   ]
  },
  {
   "cell_type": "markdown",
   "metadata": {},
   "source": [
    "## Various Characteristics of Python\n",
    "<img src=\"imgs/img003.png\" alt=\"Drawing\" style=\"width: 700px;\"/>\n",
    "\n",
    "- Python is an Object Oriented programming language\n",
    "- It supports cross platforms such as Ubuntu, Windows, MacOS\n",
    "- Rich libraries increase the demand of python.\n",
    "- Very simple to start and use compare to other languages\n",
    "- Simple syntax to understand by beginners.\n",
    "- Can be integrated with other languages like C, C++."
   ]
  },
  {
   "cell_type": "markdown",
   "metadata": {},
   "source": [
    "## Top most Application of Python\n",
    "\n",
    "<img src=\"imgs/img002.png\" alt=\"Drawing\" style=\"width: 500px;\"/>\n",
    "\n",
    "- Artificial Intelligence/ Machine Learning\n",
    "- Data Science/Analysis\n",
    "- Game Development\n",
    "- Automation, for example: Sending mails, opening of browsers, check the instagram status and many more...)\n",
    "- Web Application\n",
    "- Internet of things (IOT)\n",
    "- and many more...."
   ]
  },
  {
   "cell_type": "code",
   "execution_count": null,
   "metadata": {},
   "outputs": [],
   "source": []
  },
  {
   "cell_type": "code",
   "execution_count": null,
   "metadata": {},
   "outputs": [],
   "source": []
  },
  {
   "cell_type": "code",
   "execution_count": null,
   "metadata": {},
   "outputs": [],
   "source": []
  },
  {
   "cell_type": "code",
   "execution_count": null,
   "metadata": {},
   "outputs": [],
   "source": []
  },
  {
   "cell_type": "code",
   "execution_count": null,
   "metadata": {},
   "outputs": [],
   "source": []
  }
 ],
 "metadata": {
  "kernelspec": {
   "display_name": "Python 3",
   "language": "python",
   "name": "python3"
  },
  "language_info": {
   "codemirror_mode": {
    "name": "ipython",
    "version": 3
   },
   "file_extension": ".py",
   "mimetype": "text/x-python",
   "name": "python",
   "nbconvert_exporter": "python",
   "pygments_lexer": "ipython3",
   "version": "3.6.10"
  },
  "toc": {
   "base_numbering": 1,
   "nav_menu": {},
   "number_sections": true,
   "sideBar": true,
   "skip_h1_title": true,
   "title_cell": "Table of Contents",
   "title_sidebar": "Contents",
   "toc_cell": true,
   "toc_position": {},
   "toc_section_display": true,
   "toc_window_display": false
  }
 },
 "nbformat": 4,
 "nbformat_minor": 2
}
