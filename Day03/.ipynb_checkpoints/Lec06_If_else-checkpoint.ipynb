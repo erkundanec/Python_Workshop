{
 "cells": [
  {
   "cell_type": "markdown",
   "metadata": {
    "toc": true
   },
   "source": [
    "<h1>Table of Contents<span class=\"tocSkip\"></span></h1>\n",
    "<div class=\"toc\"><ul class=\"toc-item\"><li><span><a href=\"#Flow-Control-Statements\" data-toc-modified-id=\"Flow-Control-Statements-1\"><span class=\"toc-item-num\">1&nbsp;&nbsp;</span>Flow Control Statements</a></span><ul class=\"toc-item\"><li><span><a href=\"#if-Statement\" data-toc-modified-id=\"if-Statement-1.1\"><span class=\"toc-item-num\">1.1&nbsp;&nbsp;</span>if Statement</a></span></li><li><span><a href=\"#if...else-Statement\" data-toc-modified-id=\"if...else-Statement-1.2\"><span class=\"toc-item-num\">1.2&nbsp;&nbsp;</span>if...else Statement</a></span></li><li><span><a href=\"#if...elif...else-Statement\" data-toc-modified-id=\"if...elif...else-Statement-1.3\"><span class=\"toc-item-num\">1.3&nbsp;&nbsp;</span>if...elif...else Statement</a></span></li><li><span><a href=\"#Nested-if-statements\" data-toc-modified-id=\"Nested-if-statements-1.4\"><span class=\"toc-item-num\">1.4&nbsp;&nbsp;</span>Nested if statements</a></span></li><li><span><a href=\"#Guess-the-output\" data-toc-modified-id=\"Guess-the-output-1.5\"><span class=\"toc-item-num\">1.5&nbsp;&nbsp;</span>Guess the output</a></span></li></ul></li></ul></div>"
   ]
  },
  {
   "cell_type": "markdown",
   "metadata": {},
   "source": [
    "## Flow Control Statements\n",
    "\n",
    "Here we will learn how to create decisions in a Python program using different forms of `if..else` statement."
   ]
  },
  {
   "cell_type": "markdown",
   "metadata": {},
   "source": [
    "### if Statement\n",
    "\n",
    "**Syntax:**\n",
    "\n",
    "```python\n",
    "if some_condition:\n",
    "    statement(s)    \n",
    "```\n",
    "\n",
    "- Here, the program evaluates the `some_condition` and will execute `statement(s)` only if the `some_condition` is `True`.\n",
    "\n",
    "- If the `some_condition` is `False`, the `statement(s)` is not executed.\n",
    "- Python interprets non-zero values as `True`. None and 0 are interpreted as `False`."
   ]
  },
  {
   "cell_type": "code",
   "execution_count": 1,
   "metadata": {},
   "outputs": [
    {
     "name": "stdout",
     "output_type": "stream",
     "text": [
      "3 is a positive number.\n",
      "This is always printed.\n"
     ]
    }
   ],
   "source": [
    "# If the number is positive, it prints an appropriate message\n",
    "num = 3\n",
    "if num > 0:\n",
    "    print(num, \"is a positive number.\")\n",
    "    \n",
    "print(\"This is always printed.\")"
   ]
  },
  {
   "cell_type": "markdown",
   "metadata": {},
   "source": [
    "### if...else Statement\n",
    "\n",
    "**syntax:**\n",
    "```python\n",
    "if some_condition:\n",
    "    body_of_if\n",
    "else:\n",
    "    body_of_else\n",
    "```"
   ]
  },
  {
   "cell_type": "code",
   "execution_count": 2,
   "metadata": {},
   "outputs": [
    {
     "name": "stdout",
     "output_type": "stream",
     "text": [
      "Positive or Zero\n"
     ]
    }
   ],
   "source": [
    "# Program checks if the number is positive or negative and displays an appropriate message\n",
    "num = 3    # Try negative and zero as well: num = -5 and num = 0\n",
    "\n",
    "if num >= 0:\n",
    "    print(\"Positive or Zero\")\n",
    "else:\n",
    "    print(\"Negative number\")"
   ]
  },
  {
   "cell_type": "markdown",
   "metadata": {},
   "source": [
    "### if...elif...else Statement"
   ]
  },
  {
   "cell_type": "markdown",
   "metadata": {},
   "source": [
    "**Syntax:**\n",
    "```python\n",
    "if some_condition:\n",
    "    algorithm\n",
    "elif some_condition:\n",
    "    algorithm\n",
    "else:\n",
    "    algorithm\n",
    "```"
   ]
  },
  {
   "cell_type": "code",
   "execution_count": 3,
   "metadata": {},
   "outputs": [
    {
     "name": "stdout",
     "output_type": "stream",
     "text": [
      "Positive number\n"
     ]
    }
   ],
   "source": [
    "# Program checks if the number is positive or negative or zero and display an appropriate message\n",
    "num = 3.4           # Try negative and zero as well\n",
    "# num = 0 \n",
    "# num = -4.5\n",
    "\n",
    "if num > 0:\n",
    "    print(\"Positive number\")\n",
    "elif num == 0:\n",
    "    print(\"Zero\")\n",
    "else:\n",
    "    print(\"Negative number\")"
   ]
  },
  {
   "cell_type": "markdown",
   "metadata": {},
   "source": [
    "There can be zero or more `elif` parts, and the `else` part is optional. The keyword `elif` is short for `else if`, and is useful to avoid excessive indentation. An \n",
    "```python\n",
    "if some_condition:\n",
    "    algorithm\n",
    "elif some_condition:\n",
    "    algorithm\n",
    "elif:\n",
    "    algorithm\n",
    "```\n",
    "sequence is a substitute for the `switch` or `case` statements found in other languages."
   ]
  },
  {
   "cell_type": "markdown",
   "metadata": {},
   "source": [
    "### Nested if statements"
   ]
  },
  {
   "cell_type": "markdown",
   "metadata": {},
   "source": [
    "`if` statement inside a `if` statement or `if-elif` or `if-else` are called as nested-if statements."
   ]
  },
  {
   "cell_type": "code",
   "execution_count": 4,
   "metadata": {},
   "outputs": [
    {
     "name": "stdout",
     "output_type": "stream",
     "text": [
      "Enter a number: 5\n",
      "Positive number\n"
     ]
    }
   ],
   "source": [
    "num = float(input(\"Enter a number: \"))\n",
    "\n",
    "if num >= 0:\n",
    "    if num == 0:\n",
    "        print(\"Zero\")\n",
    "    else:\n",
    "        print(\"Positive number\")\n",
    "else:\n",
    "    print(\"Negative number\")"
   ]
  },
  {
   "cell_type": "markdown",
   "metadata": {},
   "source": [
    "### Guess the output"
   ]
  },
  {
   "cell_type": "code",
   "execution_count": 5,
   "metadata": {},
   "outputs": [
    {
     "name": "stdout",
     "output_type": "stream",
     "text": [
      "x<y\n",
      "invalid\n"
     ]
    }
   ],
   "source": [
    "x = 11\n",
    "y = 12\n",
    "\n",
    "if x > y:\n",
    "    print(\"x>y\")\n",
    "elif x < y:\n",
    "    print(\"x<y\")\n",
    "    if x==10:\n",
    "        print(\"x=10\")\n",
    "    else:\n",
    "        print(\"invalid\")\n",
    "else:\n",
    "    print(\"x=y\")"
   ]
  },
  {
   "cell_type": "code",
   "execution_count": null,
   "metadata": {},
   "outputs": [],
   "source": []
  },
  {
   "cell_type": "code",
   "execution_count": null,
   "metadata": {},
   "outputs": [],
   "source": []
  }
 ],
 "metadata": {
  "kernelspec": {
   "display_name": "Python 3",
   "language": "python",
   "name": "python3"
  },
  "language_info": {
   "codemirror_mode": {
    "name": "ipython",
    "version": 3
   },
   "file_extension": ".py",
   "mimetype": "text/x-python",
   "name": "python",
   "nbconvert_exporter": "python",
   "pygments_lexer": "ipython3",
   "version": "3.6.10"
  },
  "toc": {
   "base_numbering": 1,
   "nav_menu": {},
   "number_sections": true,
   "sideBar": true,
   "skip_h1_title": true,
   "title_cell": "Table of Contents",
   "title_sidebar": "Contents",
   "toc_cell": true,
   "toc_position": {},
   "toc_section_display": true,
   "toc_window_display": false
  }
 },
 "nbformat": 4,
 "nbformat_minor": 2
}
