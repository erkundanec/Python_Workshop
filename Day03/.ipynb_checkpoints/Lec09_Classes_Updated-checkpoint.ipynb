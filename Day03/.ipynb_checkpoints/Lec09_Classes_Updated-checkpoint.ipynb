{
 "cells": [
  {
   "cell_type": "markdown",
   "metadata": {
    "toc": true
   },
   "source": [
    "<h1>Table of Contents<span class=\"tocSkip\"></span></h1>\n",
    "<div class=\"toc\"><ul class=\"toc-item\"><li><span><a href=\"#Introduction\" data-toc-modified-id=\"Introduction-1\"><span class=\"toc-item-num\">1&nbsp;&nbsp;</span>Introduction</a></span></li><li><span><a href=\"#Classes-in-Python\" data-toc-modified-id=\"Classes-in-Python-2\"><span class=\"toc-item-num\">2&nbsp;&nbsp;</span>Classes in Python</a></span></li><li><span><a href=\"#Python-Objects-(Instances)\" data-toc-modified-id=\"Python-Objects-(Instances)-3\"><span class=\"toc-item-num\">3&nbsp;&nbsp;</span>Python Objects (Instances)</a></span></li><li><span><a href=\"#How-To-Define-a-Class-in-Python\" data-toc-modified-id=\"How-To-Define-a-Class-in-Python-4\"><span class=\"toc-item-num\">4&nbsp;&nbsp;</span>How To Define a Class in Python</a></span></li><li><span><a href=\"#Instance-Attributes\" data-toc-modified-id=\"Instance-Attributes-5\"><span class=\"toc-item-num\">5&nbsp;&nbsp;</span>Instance Attributes</a></span></li><li><span><a href=\"#Class-Attributes\" data-toc-modified-id=\"Class-Attributes-6\"><span class=\"toc-item-num\">6&nbsp;&nbsp;</span>Class Attributes</a></span></li><li><span><a href=\"#Creating-new-objects\" data-toc-modified-id=\"Creating-new-objects-7\"><span class=\"toc-item-num\">7&nbsp;&nbsp;</span>Creating new objects</a></span></li><li><span><a href=\"#What’s-Going-On?\" data-toc-modified-id=\"What’s-Going-On?-8\"><span class=\"toc-item-num\">8&nbsp;&nbsp;</span>What’s Going On?</a></span></li><li><span><a href=\"#Review-Exercises-(#1)\" data-toc-modified-id=\"Review-Exercises-(#1)-9\"><span class=\"toc-item-num\">9&nbsp;&nbsp;</span>Review Exercises (#1)</a></span></li><li><span><a href=\"#Instance-Methods\" data-toc-modified-id=\"Instance-Methods-10\"><span class=\"toc-item-num\">10&nbsp;&nbsp;</span>Instance Methods</a></span></li></ul></div>"
   ]
  },
  {
   "cell_type": "markdown",
   "metadata": {},
   "source": [
    "# Object-Oriented Programming (OOP) in Python 3"
   ]
  },
  {
   "cell_type": "markdown",
   "metadata": {},
   "source": [
    "In this article we will discuss the following basic concepts of OOP in Python:"
   ]
  },
  {
   "cell_type": "markdown",
   "metadata": {},
   "source": [
    "## Introduction\n",
    "Object-oriented Programming (OOP) is a programming paradigm which provides a means of **structuring programs** so that properties and behaviors are bundled into individual objects.\n",
    "\n",
    "For instance, an object could represent an Employee with a name, employeeID, designation, salary, age, address, etc., with behaviors like project, projectID, shift, etc. Or an email with properties like recipient list, subject, body, etc., and behaviors like adding attachments and sending. "
   ]
  },
  {
   "cell_type": "markdown",
   "metadata": {},
   "source": [
    "Another common programming paradigm is **procedural programming** which structures a program like a recipe in that it provides a set of steps, in the form of functions and code blocks, which flow sequentially in order to complete a task. \n",
    "\n",
    "The key  is that objects are at the center of the object-oriented programming paradigm, not only representing the data, as in procedural programming, but in the overall structure of the program as well.\n",
    "\n",
    "**NOTE:** Since Python is a multi-paradigm programming language, you can choose the paradigm that best suits the problem at hand, mix different paradigms in one program, and/or switch from one paradigm to another."
   ]
  },
  {
   "cell_type": "markdown",
   "metadata": {},
   "source": [
    "## Classes in Python\n",
    "The primitive data structures available in Python, like numbers, strings, and lists are designed to represent simple things like the rating of movies, the name of movies, and favorite movies, respectively.\n",
    "\n",
    "What if you wanted to represent something much more complicated?\n",
    "\n",
    "For example, let’s say we want to keep the records of employees in an organization. Definelty you should keep the details in organized manner so that you can access withut any confusion. \n",
    "\n",
    "If we use a list to track the empolyee details, the first element could be the employee’s name while the second element could represent his/her designation. How would we know that which element correspond to which detail to which employee? What if you had 100 different employees? Are you certain each employee has both a name and a designation, and so forth? What if you wanted to add other properties to these employees? This lacks organization, and it’s the exact need for classes.\n",
    "\n",
    "Classes are used to create new user-defined data structures that contain arbitrary information about something. In the case of an employee, we could create an `Employee()` class to track properties about the Employee like the name and designation.\n",
    "\n",
    "It’s important to note that a class just provides a **structure**—it’s a **blueprint** for how something should be defined, but it doesn’t actually provide any real content itself. The `Employee()` class may specify that the name and designation are necessary for defining an employee, but it will not actually state what a specific employee’s name or designation is."
   ]
  },
  {
   "cell_type": "code",
   "execution_count": 1,
   "metadata": {},
   "outputs": [],
   "source": [
    "class Employee():\n",
    "    def __init__(self, name, designation, employeeCode, salary):\n",
    "        self.name = name\n",
    "        self.designation = designation\n",
    "        self.employeeCode = employeeCode\n",
    "        self.salary = salary\n",
    "    \n",
    "    def DesignUpdate(self, design):\n",
    "        self.designation = design\n",
    "\n",
    "    def SalaryUpdate(self, inc):\n",
    "        self.salary = self.salary + inc"
   ]
  },
  {
   "cell_type": "markdown",
   "metadata": {},
   "source": [
    "## Python Objects (Instances)\n",
    "While the class is the blueprint, an instance is a copy of the class with actual values, literally an object belongs to a specific class. It’s not an idea anymore; it’s an actual employee, like me named Dr. Kundan Kumar who’s designation is Associate Professor.\n",
    "\n",
    "We can have multiple copies to create many different instances for different employees, but without any infomation about the class it wouldn't be possible. Thus, before we can create individual instances of an object, we must first specify what is needed by defining a class."
   ]
  },
  {
   "cell_type": "code",
   "execution_count": 2,
   "metadata": {},
   "outputs": [
    {
     "name": "stdout",
     "output_type": "stream",
     "text": [
      "Name: Dr.Kundan Kumar\n",
      "Designation: Assistant\n",
      "Name: Dr.Sumanshu Agarwal\n",
      "Designation: Assistant\n"
     ]
    }
   ],
   "source": [
    "Emp01 = Employee('Dr.Kundan Kumar','Assistant',123456,1000000)\n",
    "print(\"Name:\", Emp01.name)\n",
    "print(\"Designation:\", Emp01.designation)\n",
    "\n",
    "Emp02 = Employee('Dr.Sumanshu Agarwal','Assistant',123457,1000000)\n",
    "print(\"Name:\", Emp02.name)\n",
    "print(\"Designation:\", Emp02.designation)"
   ]
  },
  {
   "cell_type": "code",
   "execution_count": 3,
   "metadata": {},
   "outputs": [
    {
     "name": "stdout",
     "output_type": "stream",
     "text": [
      "Name: Dr.Kundan Kumar\n",
      "Designation: Associate\n"
     ]
    }
   ],
   "source": [
    "Emp01.DesignUpdate(\"Associate\")\n",
    "print(\"Name:\",Emp01.name)\n",
    "print(\"Designation:\", Emp01.designation)"
   ]
  },
  {
   "cell_type": "markdown",
   "metadata": {},
   "source": [
    "## How To Define a Class in Python\n",
    "\n",
    "Defining a class is simple in Python:"
   ]
  },
  {
   "cell_type": "code",
   "execution_count": 6,
   "metadata": {},
   "outputs": [],
   "source": [
    "class Employee():\n",
    "    pass"
   ]
  },
  {
   "cell_type": "markdown",
   "metadata": {},
   "source": [
    "You start with the class keyword to indicate that you are creating a class, then you add the name of the class (using CamelCase notation, starting with a capital letter (not a strict rule but a good practice))\n",
    "\n",
    "Also, we used the Python keyword `pass` here. This is very often used as a place holder where code will eventually go. It allows us to run this code without throwing an error."
   ]
  },
  {
   "cell_type": "markdown",
   "metadata": {},
   "source": [
    "## Instance Attributes\n",
    "All classes create objects, and all objects contain characteristics called attributes (referred to as properties in the opening paragraph). Use the `__init__()` method to initialize (e.g., specify) an object’s initial attributes by giving them their default value (or state). This method must have at least one argument as well as the self variable, which refers to the object itself (e.g., Employee)."
   ]
  },
  {
   "cell_type": "code",
   "execution_count": 7,
   "metadata": {},
   "outputs": [],
   "source": [
    "class Employee():\n",
    "    # Initializer / Instance Attributes\n",
    "    def __init__(self, name, designation, employeeCode, salary):\n",
    "        self.name = name\n",
    "        self.designation = designation\n",
    "        self.employeeCode = employeeCode\n",
    "        self.salary = salary"
   ]
  },
  {
   "cell_type": "markdown",
   "metadata": {},
   "source": [
    "In the case, the `Employee()` class, each Employee has a specific name, designation, employeeCode, which is obviously important to know for when you start actually creating different Employee. Remember: the class is just for defining the Employee, not actually creating instances of individual Employee with specific names and designation.\n",
    "\n",
    "Similarly, the `self` variable is also an instance of the class. Since instances of a class have varying values we could state Employee.name = name rather than self.name = name. But since not all Employee share the same name, we need to be able to assign different values to different instances. Hence the need for the special `self` variable, which will help to keep track of individual instances of each class.\n",
    "\n",
    "NOTE: You will never have to call the `__init__()` method; it gets called automatically when you create a new `Employee` instance."
   ]
  },
  {
   "cell_type": "markdown",
   "metadata": {},
   "source": [
    "## Class Attributes\n",
    "While instance attributes are specific to each object, class attributes are the same for all instances—which in this case is all Employees."
   ]
  },
  {
   "cell_type": "code",
   "execution_count": 9,
   "metadata": {},
   "outputs": [],
   "source": [
    "class Employee():\n",
    "\n",
    "    # Class Attribute\n",
    "    Institute = 'ITER'\n",
    "\n",
    "    # Initializer / Instance Attributes\n",
    "    def __init__(self, name, designation):\n",
    "        self.name = name\n",
    "        self.designation = designation"
   ]
  },
  {
   "cell_type": "markdown",
   "metadata": {},
   "source": [
    "So while each Employee has a unique name and designation, every Employee will be affiliated to same institute `ITER`."
   ]
  },
  {
   "cell_type": "markdown",
   "metadata": {},
   "source": [
    "## Creating new objects\n",
    "\n",
    "Instantiating is a fancy term for creating a new, unique instance of a class.\n",
    "\n",
    "For example:"
   ]
  },
  {
   "cell_type": "code",
   "execution_count": 10,
   "metadata": {},
   "outputs": [
    {
     "data": {
      "text/plain": [
       "<__main__.Employee at 0x104642a90>"
      ]
     },
     "execution_count": 10,
     "metadata": {},
     "output_type": "execute_result"
    }
   ],
   "source": [
    "class Employee():\n",
    "    pass\n",
    "\n",
    "Employee()"
   ]
  },
  {
   "cell_type": "code",
   "execution_count": 13,
   "metadata": {},
   "outputs": [],
   "source": [
    "Emp01 = Employee()\n",
    "Emp02 = Employee()"
   ]
  },
  {
   "cell_type": "code",
   "execution_count": 14,
   "metadata": {},
   "outputs": [
    {
     "data": {
      "text/plain": [
       "False"
      ]
     },
     "execution_count": 14,
     "metadata": {},
     "output_type": "execute_result"
    }
   ],
   "source": [
    "Emp01==Emp02"
   ]
  },
  {
   "cell_type": "markdown",
   "metadata": {},
   "source": [
    "We started by defining a new `Employee()` class, then created two new Employees, each assigned to different objects. So, to create an instance of a class, we use the class name, followed by parentheses. Then to demonstrate that each instance is actually different, we instantiated two more employees, assigning each to a variable, then tested if those variables are equal.\n",
    "\n",
    "What do you think the type of a class instance is?"
   ]
  },
  {
   "cell_type": "code",
   "execution_count": 18,
   "metadata": {},
   "outputs": [
    {
     "name": "stdout",
     "output_type": "stream",
     "text": [
      "<class '__main__.Employee'>\n"
     ]
    }
   ],
   "source": [
    "class Employee():\n",
    "    pass\n",
    "\n",
    "Emp01 = Employee()\n",
    "print(type(Emp01))"
   ]
  },
  {
   "cell_type": "markdown",
   "metadata": {},
   "source": [
    "Let’s look at a slightly more complex example…"
   ]
  },
  {
   "cell_type": "code",
   "execution_count": 22,
   "metadata": {},
   "outputs": [
    {
     "name": "stdout",
     "output_type": "stream",
     "text": [
      "Dr. Kundan Kumar is Associate and Dr. Sumanshu Agarwal is Associate.\n",
      "Dr. Kundan Kumar is a Associate!\n"
     ]
    }
   ],
   "source": [
    "class Employee():\n",
    "   # Class Attribute\n",
    "    institute = 'ITER'\n",
    "\n",
    "    # Initializer / Instance Attributes\n",
    "    def __init__(self, name, designation):\n",
    "        self.name = name\n",
    "        self.designation = designation\n",
    "\n",
    "\n",
    "# Instantiate the Employee object\n",
    "Emp01 = Employee(\"Dr. Kundan Kumar\", \"Associate\")\n",
    "Emp02 = Employee(\"Dr. Sumanshu Agarwal\", \"Associate\")\n",
    "\n",
    "# Access the instance attributes\n",
    "print(\"{} is {} and {} is {}.\".format(\n",
    "    Emp01.name, Emp01.designation, Emp02.name, Emp02.designation))\n",
    "\n",
    "# Is Emp01 affliated to ITER?\n",
    "if Emp01.institute == \"ITER\":\n",
    "    print(\"{0} is a {1}!\".format(Emp01.name, Emp01.designation))"
   ]
  },
  {
   "cell_type": "markdown",
   "metadata": {},
   "source": [
    "**NOTE:** Notice how we use dot notation to access attributes from each object.\n",
    "\n",
    "Save this as `EmployeeDatabase.py`, then run the program. You should see:"
   ]
  },
  {
   "cell_type": "markdown",
   "metadata": {},
   "source": [
    "## What’s Going On?\n",
    "We created a new instance of the `Employee()` class and assigned it to the variable 'Emp01'. We then passed it two arguments, \"Dr. Kundan Kumar\" and \"Associate\", which represent that Employee’s name and designation, respectively.\n",
    "\n",
    "These attributes are passed to the `__init__` method, which gets called each time you create a new instance, attaching the name and designation to the object. You might be wondering why we didn’t have to pass in the self argument.\n",
    "\n",
    "This is Python magic; when you create a new instance of the class, Python automatically determines what self is (an Employee in this case) and passes it to the `__init__` method."
   ]
  },
  {
   "cell_type": "markdown",
   "metadata": {},
   "source": [
    "## Review Exercises (#1)\n",
    "\n",
    "Using the same Employee class, instantiate three new Employee, each with a different designation (Assistant, Associate, Professor). Then write a function called, experience(), that takes any number of ages (*args) and returns the most experienced employee.\n",
    "\n",
    "The oldest dog is 7 years old."
   ]
  },
  {
   "cell_type": "code",
   "execution_count": 31,
   "metadata": {},
   "outputs": [
    {
     "name": "stdout",
     "output_type": "stream",
     "text": [
      "The oldest dog is 2 years old.\n"
     ]
    }
   ],
   "source": [
    "from datetime import date \n",
    "\n",
    "class Employee():\n",
    "\n",
    "    # Class Attribute\n",
    "    institute = 'ITER'\n",
    "\n",
    "    # Initializer / Instance Attributes\n",
    "    def __init__(self, name, joiningDate):\n",
    "        self.name = name\n",
    "        self.joiningDate = joiningDate\n",
    "\n",
    "\n",
    "# Instantiate the Employee object\n",
    "Emp01 = Employee(\"Dr.Kundan Kumar\", date(2017, 3, 6))\n",
    "Emp02 = Employee(\"Mr.Gyana Ranjan Patra\", date(1997, 2, 3))\n",
    "Emp03 = Employee(\"Dr.Sumanshu Agrawal\", date(2017, 6, 6))\n",
    "  \n",
    "def calculateExperience(birthDate): \n",
    "    today = date.today() \n",
    "    age = today.year - birthDate.year - ((today.month, today.day) < (birthDate.month, birthDate.day)) \n",
    "  \n",
    "    return age \n",
    "def ExperiencedEmp(*arg):\n",
    "    \n",
    "\n",
    "\n",
    "# Output\n",
    "print(\"The oldest dog is {} years old.\".format(\n",
    "    ExperiencedEmp(Emp01.joiningDate,Emp02.joiningDate,Emp02.joiningDate)))"
   ]
  },
  {
   "cell_type": "code",
   "execution_count": 27,
   "metadata": {},
   "outputs": [
    {
     "data": {
      "text/plain": [
       "datetime.date(2017, 3, 6)"
      ]
     },
     "execution_count": 27,
     "metadata": {},
     "output_type": "execute_result"
    }
   ],
   "source": [
    "Emp01.joiningDate"
   ]
  },
  {
   "cell_type": "markdown",
   "metadata": {},
   "source": [
    "## Instance Methods\n",
    "Instance methods are defined inside a class and are used to get the contents of an instance. They can also be used to perform operations with the attributes of our objects. Like the ```__init__``` method, the first argument is always self:"
   ]
  },
  {
   "cell_type": "code",
   "execution_count": 43,
   "metadata": {},
   "outputs": [
    {
     "name": "stdout",
     "output_type": "stream",
     "text": [
      "Mikey is 6 years old\n",
      "Mikey says Gruff Gruff\n"
     ]
    }
   ],
   "source": [
    "class Dog:\n",
    "\n",
    "    # Class Attribute\n",
    "    species = 'mammal'\n",
    "\n",
    "    # Initializer / Instance Attributes\n",
    "    def __init__(self, name, age):\n",
    "        self.name = name\n",
    "        self.age = age\n",
    "\n",
    "    # instance method\n",
    "    def description(self):\n",
    "        return \"{} is {} years old\".format(self.name, self.age)\n",
    "\n",
    "    # instance method\n",
    "    def speak(self, sound):\n",
    "        return \"{} says {}\".format(self.name, sound)\n",
    "\n",
    "# Instantiate the Dog object\n",
    "mikey = Dog(\"Mikey\", 6)\n",
    "\n",
    "# call our instance methods\n",
    "print(mikey.description())\n",
    "print(mikey.speak(\"Gruff Gruff\"))"
   ]
  },
  {
   "cell_type": "code",
   "execution_count": null,
   "metadata": {},
   "outputs": [],
   "source": []
  }
 ],
 "metadata": {
  "kernelspec": {
   "display_name": "Python 3",
   "language": "python",
   "name": "python3"
  },
  "language_info": {
   "codemirror_mode": {
    "name": "ipython",
    "version": 3
   },
   "file_extension": ".py",
   "mimetype": "text/x-python",
   "name": "python",
   "nbconvert_exporter": "python",
   "pygments_lexer": "ipython3",
   "version": "3.6.10"
  },
  "toc": {
   "base_numbering": 1,
   "nav_menu": {},
   "number_sections": true,
   "sideBar": true,
   "skip_h1_title": true,
   "title_cell": "Table of Contents",
   "title_sidebar": "Contents",
   "toc_cell": true,
   "toc_position": {},
   "toc_section_display": true,
   "toc_window_display": false
  }
 },
 "nbformat": 4,
 "nbformat_minor": 2
}
