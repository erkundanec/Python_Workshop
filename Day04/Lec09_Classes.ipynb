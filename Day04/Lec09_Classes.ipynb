{
 "cells": [
  {
   "cell_type": "markdown",
   "metadata": {
    "toc": true
   },
   "source": [
    "<h1>Table of Contents<span class=\"tocSkip\"></span></h1>\n",
    "<div class=\"toc\"><ul class=\"toc-item\"><li><span><a href=\"#Introduction\" data-toc-modified-id=\"Introduction-1\"><span class=\"toc-item-num\">1&nbsp;&nbsp;</span>Introduction</a></span></li><li><span><a href=\"#Classes-in-Python\" data-toc-modified-id=\"Classes-in-Python-2\"><span class=\"toc-item-num\">2&nbsp;&nbsp;</span>Classes in Python</a></span></li><li><span><a href=\"#Python-Objects-(Instances)\" data-toc-modified-id=\"Python-Objects-(Instances)-3\"><span class=\"toc-item-num\">3&nbsp;&nbsp;</span>Python Objects (Instances)</a></span></li><li><span><a href=\"#How-To-Define-a-Class-in-Python\" data-toc-modified-id=\"How-To-Define-a-Class-in-Python-4\"><span class=\"toc-item-num\">4&nbsp;&nbsp;</span>How To Define a Class in Python</a></span><ul class=\"toc-item\"><li><span><a href=\"#Instance-Attributes\" data-toc-modified-id=\"Instance-Attributes-4.1\"><span class=\"toc-item-num\">4.1&nbsp;&nbsp;</span>Instance Attributes</a></span></li><li><span><a href=\"#Implicit-instance-attributes\" data-toc-modified-id=\"Implicit-instance-attributes-4.2\"><span class=\"toc-item-num\">4.2&nbsp;&nbsp;</span>Implicit instance attributes</a></span></li><li><span><a href=\"#Class-Attributes\" data-toc-modified-id=\"Class-Attributes-4.3\"><span class=\"toc-item-num\">4.3&nbsp;&nbsp;</span>Class Attributes</a></span></li><li><span><a href=\"#Multiple-instances/objects\" data-toc-modified-id=\"Multiple-instances/objects-4.4\"><span class=\"toc-item-num\">4.4&nbsp;&nbsp;</span>Multiple instances/objects</a></span></li></ul></li><li><span><a href=\"#Instance-Methods\" data-toc-modified-id=\"Instance-Methods-5\"><span class=\"toc-item-num\">5&nbsp;&nbsp;</span>Instance Methods</a></span></li><li><span><a href=\"#Modifying-Attributes\" data-toc-modified-id=\"Modifying-Attributes-6\"><span class=\"toc-item-num\">6&nbsp;&nbsp;</span>Modifying Attributes</a></span></li><li><span><a href=\"#self-instance\" data-toc-modified-id=\"self-instance-7\"><span class=\"toc-item-num\">7&nbsp;&nbsp;</span>self instance</a></span></li><li><span><a href=\"#Inheritance\" data-toc-modified-id=\"Inheritance-8\"><span class=\"toc-item-num\">8&nbsp;&nbsp;</span>Inheritance</a></span></li></ul></div>"
   ]
  },
  {
   "cell_type": "markdown",
   "metadata": {},
   "source": [
    "# Object-Oriented Programming (OOP) in Python 3"
   ]
  },
  {
   "cell_type": "markdown",
   "metadata": {},
   "source": [
    "## Introduction\n",
    "Python is multi-paradigm programming language. Procedural programming and Structuring programming are vary common approaches.\n",
    "\n",
    " 1. Procedural programming: which structures a program like a recipe in that it provides a set of steps, in the form of functions and code blocks, which flow sequentially in order to complete a task.\n",
    " \n",
    " 2. Structural programming: which structures a program so that properties and behaviors are bundled into individual objects.\n",
    " \n",
    "Programmers choose the paradigm that best suits the problem at hand. They mix different paradigms in one program, and/or switch from one paradigm to another.\n",
    "\n",
    "The primitive data structures available in Python, like numbers, strings, and lists, are programmed in structural programming paradigm. However, these primitive data structures are designed to represent simple things like the rating of movies, the name of movies, and favorite movies, respectively.\n",
    "\n",
    "What if you wanted to represent something much more complicated?\n",
    "\n",
    "For example, let's say we want to keep the records of employees in an organization. Definitely you should keep the details in organized manner so that you can access without any confusion. \n",
    "\n",
    "If we use a list to track the employee details, the first element could be the employee's name while the second element could represent his/her designation. How would we know that which element corresponds to which detail and to which employee? What if you had 100 different employees? Are you certain each employee has both a name and a designation, and so forth? What if you wanted to add other properties to these employees like work experience? This lacks organization, and it is the exact need for classes."
   ]
  },
  {
   "cell_type": "markdown",
   "metadata": {},
   "source": [
    "## Classes in Python\n",
    "Object-oriented Programming (OOP) is a programming paradigm which provides a means of **structuring programs** so that properties and behaviors are bundled into individual objects.\n",
    "\n",
    "The key is that objects are at the center of the object-oriented programming paradigm, not only representing the data, as in procedural programming, but in the overall structure of the program as well.\n",
    "\n",
    "Classes are used to create new user-defined data structures that contain arbitrary information about something. In the case of an employee, we could create an `Employee()` class to track properties about the Employee like the name and designation.\n",
    "\n",
    "It's important to note that a class just provides a **structure** - it's a **blueprint** for how something should be defined, but it doesn't actually provide any real content itself. The `Employee()` class may specify that the name and designation are necessary for defining an employee, but it will not actually state what a specific employee's name or designation is."
   ]
  },
  {
   "cell_type": "code",
   "execution_count": 1,
   "metadata": {},
   "outputs": [],
   "source": [
    "class Employee():\n",
    "    def __init__(self, name, employeeCode, designation, salary):\n",
    "        self.name = name\n",
    "        self.employeeCode = employeeCode\n",
    "        self.designation = designation\n",
    "        self.salary = salary\n",
    "    \n",
    "    def updateDesignation(self, design):\n",
    "        self.designation = design\n",
    "\n",
    "    def updateSalary(self, increament):\n",
    "        self.salary = self.salary + increament"
   ]
  },
  {
   "cell_type": "markdown",
   "metadata": {},
   "source": [
    "## Python Objects (Instances)\n"
   ]
  },
  {
   "cell_type": "code",
   "execution_count": 2,
   "metadata": {},
   "outputs": [
    {
     "name": "stdout",
     "output_type": "stream",
     "text": [
      "Name: Mr. Ramesh\n",
      "Designation: Software Engineer\n"
     ]
    }
   ],
   "source": [
    "Emp01 = Employee('Mr. Ramesh', 111, 'Software Engineer', 400000)\n",
    "print(\"Name:\", Emp01.name)\n",
    "print(\"Designation:\", Emp01.designation)"
   ]
  },
  {
   "cell_type": "markdown",
   "metadata": {},
   "source": [
    "While the class is the **blueprint**, an instance is a copy of the class with actual values, literally an object (Emp01) belongs to a specific class (Employee). It's not an idea anymore; it's an actual employee, like Mr. Ramesh at the designation  \"Software Engineer\"."
   ]
  },
  {
   "cell_type": "markdown",
   "metadata": {},
   "source": [
    "## How To Define a Class in Python\n",
    "\n",
    "Defining a class is simple in Python:"
   ]
  },
  {
   "cell_type": "code",
   "execution_count": 3,
   "metadata": {},
   "outputs": [],
   "source": [
    "class Employee():\n",
    "    pass"
   ]
  },
  {
   "cell_type": "markdown",
   "metadata": {},
   "source": [
    "You start with the class keyword to indicate that you are creating a class, then you add the name of the class (using CamelCase notation, starting with a capital letter (not a strict rule but a good practice))\n",
    "\n",
    "Also, we used the Python keyword `pass` here. This is very often used as a place holder where code will eventually go. It allows us to run this code without throwing an error."
   ]
  },
  {
   "cell_type": "markdown",
   "metadata": {},
   "source": [
    "### Instance Attributes\n",
    "All classes create objects, and all objects contain characteristics called attributes. Use the `__init__()` method to initialize an object's initial attributes by giving them their default value (or state). This method must have at least one argument that is the `self` variable, which refers to the object itself (e.g., Employee)."
   ]
  },
  {
   "cell_type": "code",
   "execution_count": 4,
   "metadata": {},
   "outputs": [
    {
     "name": "stdout",
     "output_type": "stream",
     "text": [
      "Employee without any argument\n"
     ]
    }
   ],
   "source": [
    "class Employee():\n",
    "    # Initializer / Instance Attributes\n",
    "    def __init__(self):\n",
    "        print('Employee without any argument')\n",
    "\n",
    "Emp01 = Employee()"
   ]
  },
  {
   "cell_type": "markdown",
   "metadata": {},
   "source": [
    "However, we can initialize multiple instance attributes by passing other arguments along with self to the `__init__(self, arg1,arg2,arg3,...)`."
   ]
  },
  {
   "cell_type": "code",
   "execution_count": 5,
   "metadata": {},
   "outputs": [],
   "source": [
    "class Employee():\n",
    "    # Initializer / Instance Attributes\n",
    "    def __init__(self, name, employeeCode, designation,  salary):\n",
    "        self.name = name\n",
    "        self.employeeCode = employeeCode\n",
    "        self.designation = designation\n",
    "        self.salary = salary"
   ]
  },
  {
   "cell_type": "code",
   "execution_count": 6,
   "metadata": {},
   "outputs": [],
   "source": [
    "emp01 = Employee('Ramesh',111,'Software Engineer', 400000)"
   ]
  },
  {
   "cell_type": "markdown",
   "metadata": {},
   "source": [
    "**Remember**: the class is just for defining the Employee, not actually creating instances of individual Employee with specific names and designation.\n",
    "\n",
    "Similarly, the `self` variable is also an instance of the class. Since instances of a class have varying values we could state `Employee.name = name` rather than `self.name = name`. But since not all Employee share the same name, we need to be able to assign different values to different instances. Hence the need for the special `self` variable, which will help to keep track of individual instances of each class."
   ]
  },
  {
   "cell_type": "code",
   "execution_count": 7,
   "metadata": {},
   "outputs": [
    {
     "name": "stdout",
     "output_type": "stream",
     "text": [
      "Ramesh\n",
      "111\n",
      "Software Engineer\n",
      "400000\n"
     ]
    }
   ],
   "source": [
    "print(emp01.name)\n",
    "print(emp01.employeeCode)\n",
    "print(emp01.designation)\n",
    "print(emp01.salary)"
   ]
  },
  {
   "cell_type": "code",
   "execution_count": 9,
   "metadata": {},
   "outputs": [
    {
     "ename": "AttributeError",
     "evalue": "'Employee' object has no attribute 'project'",
     "output_type": "error",
     "traceback": [
      "\u001b[0;31m---------------------------------------------------------------------------\u001b[0m",
      "\u001b[0;31mAttributeError\u001b[0m                            Traceback (most recent call last)",
      "\u001b[0;32m<ipython-input-9-5b35d4fd5c54>\u001b[0m in \u001b[0;36m<module>\u001b[0;34m\u001b[0m\n\u001b[0;32m----> 1\u001b[0;31m \u001b[0mprint\u001b[0m\u001b[0;34m(\u001b[0m\u001b[0memp01\u001b[0m\u001b[0;34m.\u001b[0m\u001b[0mproject\u001b[0m\u001b[0;34m)\u001b[0m    \u001b[0;31m# return an attributeError because project is not a variable in the `Employee()` class\u001b[0m\u001b[0;34m\u001b[0m\u001b[0;34m\u001b[0m\u001b[0m\n\u001b[0m",
      "\u001b[0;31mAttributeError\u001b[0m: 'Employee' object has no attribute 'project'"
     ]
    }
   ],
   "source": [
    "print(emp01.project)    # return an attributeError because project is not a variable in the `Employee()` class"
   ]
  },
  {
   "cell_type": "markdown",
   "metadata": {},
   "source": [
    "\n",
    "**NOTE:** You will never have to call the `__init__()` method; it gets called automatically when you create a new `Employee` instance."
   ]
  },
  {
   "cell_type": "markdown",
   "metadata": {},
   "source": [
    "### Implicit instance attributes\n",
    "Work same as we saw in function definition."
   ]
  },
  {
   "cell_type": "code",
   "execution_count": 10,
   "metadata": {},
   "outputs": [],
   "source": [
    "class Employee():\n",
    "    # Initializer / Instance Attributes\n",
    "    def __init__(self, name, employeeCode, designation,  salary, orgainization = 'Microsoft'):\n",
    "        self.name = name\n",
    "        self.employeeCode = employeeCode\n",
    "        self.designation = designation\n",
    "        self.salary = salary\n",
    "        self.orgainization = orgainization"
   ]
  },
  {
   "cell_type": "code",
   "execution_count": 11,
   "metadata": {},
   "outputs": [
    {
     "name": "stdout",
     "output_type": "stream",
     "text": [
      "Ramesh is an Software Engineer\n",
      "He are working in Microsoft.\n"
     ]
    }
   ],
   "source": [
    "Emp01 = Employee('Ramesh',111,'Software Engineer', 400000)   ## need to pass 4 arguments\n",
    "print(\"{} is an {}\".format(Emp01.name, Emp01.designation))\n",
    "print(\"He are working in {}.\".format(Emp01.orgainization))"
   ]
  },
  {
   "cell_type": "code",
   "execution_count": 12,
   "metadata": {},
   "outputs": [
    {
     "name": "stdout",
     "output_type": "stream",
     "text": [
      "He are working in Microsoft.\n"
     ]
    }
   ],
   "source": [
    "Emp01.organization = \"Samsung\"              # we can change the class varible from out of the class\n",
    "print(\"He are working in {}.\".format(Emp01.orgainization))"
   ]
  },
  {
   "cell_type": "markdown",
   "metadata": {},
   "source": [
    "### Class Attributes\n",
    "While instance attributes are specific to each object, class attributes are the same for all instances—which in this case is all Employees."
   ]
  },
  {
   "cell_type": "code",
   "execution_count": 13,
   "metadata": {},
   "outputs": [],
   "source": [
    "class Employee():\n",
    "\n",
    "    # Class Attribute\n",
    "    orgainization = 'Microsoft'\n",
    "\n",
    "    # Initializer / Instance Attributes\n",
    "    def __init__(self, name, employeeCode, designation,  salary):\n",
    "        self.name = name\n",
    "        self.employeeCode = employeeCode\n",
    "        self.designation = designation\n",
    "        self.salary = salary"
   ]
  },
  {
   "cell_type": "code",
   "execution_count": 14,
   "metadata": {},
   "outputs": [
    {
     "name": "stdout",
     "output_type": "stream",
     "text": [
      "Ramesh is an Software Engineer\n",
      "He are working in Microsoft.\n"
     ]
    }
   ],
   "source": [
    "Emp01 = Employee('Ramesh',111,'Software Engineer', 400000)   ## need to pass 4 arguments\n",
    "print(\"{} is an {}\".format(Emp01.name, Emp01.designation))              \n",
    "print(\"He are working in {}.\".format(Emp01.orgainization))"
   ]
  },
  {
   "cell_type": "markdown",
   "metadata": {},
   "source": [
    "So while each Employee may have an unique `name`, `employeeCode`, `designation`, and `salary`, every Employee are working in same organization `Microsoft`."
   ]
  },
  {
   "cell_type": "markdown",
   "metadata": {},
   "source": [
    "### Multiple instances/objects\n",
    "\n",
    "Instantiating is a fancy term for creating a new, unique instance of a class.\n",
    "\n",
    "For example:"
   ]
  },
  {
   "cell_type": "code",
   "execution_count": 16,
   "metadata": {},
   "outputs": [
    {
     "data": {
      "text/plain": [
       "<__main__.Employee at 0x109c0e630>"
      ]
     },
     "execution_count": 16,
     "metadata": {},
     "output_type": "execute_result"
    }
   ],
   "source": [
    "class Employee():\n",
    "    pass\n",
    "\n",
    "Employee()"
   ]
  },
  {
   "cell_type": "code",
   "execution_count": 17,
   "metadata": {},
   "outputs": [],
   "source": [
    "Emp01 = Employee()\n",
    "Emp02 = Employee()"
   ]
  },
  {
   "cell_type": "code",
   "execution_count": 18,
   "metadata": {},
   "outputs": [
    {
     "data": {
      "text/plain": [
       "False"
      ]
     },
     "execution_count": 18,
     "metadata": {},
     "output_type": "execute_result"
    }
   ],
   "source": [
    "Emp01==Emp02"
   ]
  },
  {
   "cell_type": "markdown",
   "metadata": {},
   "source": [
    "We started by defining a new `Employee()` class, then created two new Employees, each assigned to different objects. So, to create an instance of a class, we use the class name, followed by parentheses. Then to demonstrate that each instance is actually different, we instantiated two more employees, assigning each to a variable, then tested if those variables are equal.\n"
   ]
  },
  {
   "cell_type": "code",
   "execution_count": 23,
   "metadata": {},
   "outputs": [
    {
     "name": "stdout",
     "output_type": "stream",
     "text": [
      "Mr. Ramesh is Software Engineer and Mr. Suresh is Software Developer.\n",
      "Mr. Ramesh is a Software Engineer!, working at Microsoft\n"
     ]
    }
   ],
   "source": [
    "class Employee():\n",
    "   # Class Attribute\n",
    "    organization = 'Microsoft'\n",
    "\n",
    "    # Initializer / Instance Attributes\n",
    "    def __init__(self, name, designation):\n",
    "        self.name = name\n",
    "        self.designation = designation\n",
    "\n",
    "\n",
    "# Instantiate the Employee object\n",
    "Emp01 = Employee(\"Mr. Ramesh\", \"Software Engineer\")\n",
    "Emp02 = Employee(\"Mr. Suresh\", \"Software Developer\")\n",
    "\n",
    "# Access the instance attributes\n",
    "print(\"{} is {} and {} is {}.\".format(\n",
    "    Emp01.name, Emp01.designation, Emp02.name, Emp02.designation))\n",
    "\n",
    "# Is Emp01 affliated to Microsoft?\n",
    "if Emp01.organization == \"Microsoft\":\n",
    "    print(\"{0} is a {1}!, working at {2}\".format(Emp01.name, Emp01.designation, Emp01.organization))"
   ]
  },
  {
   "cell_type": "markdown",
   "metadata": {},
   "source": [
    "## Instance Methods\n",
    "Instance methods are defined inside a class and are used to get the contents of an instance. They can also be used to perform operations with the attributes of our objects. Like the ```__init__``` method, the first argument is always self:"
   ]
  },
  {
   "cell_type": "code",
   "execution_count": 24,
   "metadata": {},
   "outputs": [
    {
     "name": "stdout",
     "output_type": "stream",
     "text": [
      "Mr. Ramesh\n",
      "Software Engineer\n",
      "None\n",
      "Mr. Ramesh is promoted to Senior Software Engineer\n"
     ]
    }
   ],
   "source": [
    "class Employee():\n",
    "\n",
    "    # Class Attribute\n",
    "    organization = 'Microsoft'\n",
    "\n",
    "    # Initializer / Instance Attributes\n",
    "    def __init__(self, name, designation):\n",
    "        self.n = name\n",
    "        self.d = designation\n",
    "\n",
    "    def printDetails(self):\n",
    "        print(self.n)\n",
    "        print(self.d)\n",
    "        \n",
    "    # instance method\n",
    "    def updateDesignation(self, design):\n",
    "        self.d = design\n",
    "\n",
    "    # instance method\n",
    "    def updateSalary(self, increament):\n",
    "        self.salary = self.salary + increament\n",
    "\n",
    "# Initialize the Employee object\n",
    "Emp01 = Employee('Mr. Ramesh', 'Software Engineer')\n",
    "\n",
    "# # call the instance methods\n",
    "print(Emp01.printDetails())\n",
    "Emp01.updateDesignation('Senior Software Engineer')\n",
    "print(Emp01.n, 'is promoted to', Emp01.d)"
   ]
  },
  {
   "cell_type": "markdown",
   "metadata": {},
   "source": [
    "## Modifying Attributes\n",
    "Attributes of the instance can be modified from inside the class only using class methods."
   ]
  },
  {
   "cell_type": "code",
   "execution_count": 27,
   "metadata": {},
   "outputs": [
    {
     "data": {
      "text/plain": [
       "False"
      ]
     },
     "execution_count": 27,
     "metadata": {},
     "output_type": "execute_result"
    }
   ],
   "source": [
    "class Email:\n",
    "    def __init__(self):\n",
    "        self.is_sent = False\n",
    "    def send_email(self):\n",
    "        self.is_sent = True\n",
    "\n",
    "my_email = Email()\n",
    "my_email.is_sent"
   ]
  },
  {
   "cell_type": "code",
   "execution_count": 28,
   "metadata": {},
   "outputs": [
    {
     "data": {
      "text/plain": [
       "True"
      ]
     },
     "execution_count": 28,
     "metadata": {},
     "output_type": "execute_result"
    }
   ],
   "source": [
    "my_email.send_email()\n",
    "my_email.is_sent"
   ]
  },
  {
   "cell_type": "markdown",
   "metadata": {},
   "source": [
    "## self instance"
   ]
  },
  {
   "cell_type": "markdown",
   "metadata": {},
   "source": [
    "From the above, we can conclude that `self` is nothing but the instance itself.\n",
    "\n",
    "Remember, `self` is not predefined it is userdefined. You can make use of anything you are comfortable with. But it has become a common practice to use `self`."
   ]
  },
  {
   "cell_type": "code",
   "execution_count": 30,
   "metadata": {},
   "outputs": [
    {
     "data": {
      "text/plain": [
       "False"
      ]
     },
     "execution_count": 30,
     "metadata": {},
     "output_type": "execute_result"
    }
   ],
   "source": [
    "class Email():\n",
    "    def __init__(afaf001):\n",
    "        afaf001.is_sent = False\n",
    "    def send_email(self):\n",
    "        afaf001.is_sent = True\n",
    "\n",
    "my_email = Email()\n",
    "my_email.is_sent"
   ]
  },
  {
   "cell_type": "markdown",
   "metadata": {},
   "source": [
    "## Inheritance"
   ]
  },
  {
   "cell_type": "markdown",
   "metadata": {},
   "source": [
    "There might be cases where a new class would have all the previous characteristics of an already defined class. So the new class can \"inherit\" the previous class and add it's own methods to it. This is called as inheritance."
   ]
  },
  {
   "cell_type": "markdown",
   "metadata": {},
   "source": [
    "Consider class SoftwareEngineer which has a method salary."
   ]
  },
  {
   "cell_type": "code",
   "execution_count": 1,
   "metadata": {},
   "outputs": [],
   "source": [
    "class SoftwareEngineer:\n",
    "    def __init__(self,name,age):\n",
    "        self.name = name\n",
    "        self.age = age\n",
    "    def salary(self, value):\n",
    "        self.money = value\n",
    "        print(self.name,\"earns\",self.money)"
   ]
  },
  {
   "cell_type": "code",
   "execution_count": 2,
   "metadata": {},
   "outputs": [],
   "source": [
    "a = SoftwareEngineer('Kartik',26)"
   ]
  },
  {
   "cell_type": "code",
   "execution_count": 3,
   "metadata": {},
   "outputs": [
    {
     "name": "stdout",
     "output_type": "stream",
     "text": [
      "Kartik earns 40000\n"
     ]
    }
   ],
   "source": [
    "a.salary(40000)"
   ]
  },
  {
   "cell_type": "markdown",
   "metadata": {},
   "source": [
    "Now consider another class Artist which tells us about the amount of money an artist earns and his artform."
   ]
  },
  {
   "cell_type": "code",
   "execution_count": 4,
   "metadata": {},
   "outputs": [],
   "source": [
    "class Artist:\n",
    "    def __init__(self,name,age):\n",
    "        self.name = name\n",
    "        self.age = age\n",
    "    def money(self,value):\n",
    "        self.money = value\n",
    "        print(self.name,\"earns\",self.money)\n",
    "    def artform(self, job):\n",
    "        self.job = job\n",
    "        print(self.name,\"is a\", self.job)"
   ]
  },
  {
   "cell_type": "code",
   "execution_count": 5,
   "metadata": {},
   "outputs": [],
   "source": [
    "b = Artist('Nitin',20)"
   ]
  },
  {
   "cell_type": "code",
   "execution_count": 6,
   "metadata": {},
   "outputs": [
    {
     "name": "stdout",
     "output_type": "stream",
     "text": [
      "Nitin earns 50000\n",
      "Nitin is a Musician\n"
     ]
    }
   ],
   "source": [
    "b.money(50000)\n",
    "b.artform('Musician')"
   ]
  },
  {
   "cell_type": "markdown",
   "metadata": {},
   "source": [
    "Money method and salary method are the same. So we can generalize the method to salary and inherit the SoftwareEngineer class to Artist class. Now the artist class becomes,"
   ]
  },
  {
   "cell_type": "code",
   "execution_count": 7,
   "metadata": {},
   "outputs": [],
   "source": [
    "class Artist(SoftwareEngineer):\n",
    "    def artform(self, job):\n",
    "        self.job = job\n",
    "        print(self.name,\"is a\", self.job)"
   ]
  },
  {
   "cell_type": "code",
   "execution_count": 8,
   "metadata": {},
   "outputs": [],
   "source": [
    "c = Artist('Nishanth',21)"
   ]
  },
  {
   "cell_type": "code",
   "execution_count": 9,
   "metadata": {},
   "outputs": [
    {
     "data": {
      "text/plain": [
       "['__class__',\n",
       " '__delattr__',\n",
       " '__dict__',\n",
       " '__dir__',\n",
       " '__doc__',\n",
       " '__eq__',\n",
       " '__format__',\n",
       " '__ge__',\n",
       " '__getattribute__',\n",
       " '__gt__',\n",
       " '__hash__',\n",
       " '__init__',\n",
       " '__init_subclass__',\n",
       " '__le__',\n",
       " '__lt__',\n",
       " '__module__',\n",
       " '__ne__',\n",
       " '__new__',\n",
       " '__reduce__',\n",
       " '__reduce_ex__',\n",
       " '__repr__',\n",
       " '__setattr__',\n",
       " '__sizeof__',\n",
       " '__str__',\n",
       " '__subclasshook__',\n",
       " '__weakref__',\n",
       " 'artform',\n",
       " 'salary']"
      ]
     },
     "execution_count": 9,
     "metadata": {},
     "output_type": "execute_result"
    }
   ],
   "source": [
    "dir(Artist)"
   ]
  },
  {
   "cell_type": "code",
   "execution_count": 10,
   "metadata": {},
   "outputs": [
    {
     "name": "stdout",
     "output_type": "stream",
     "text": [
      "Nishanth earns 60000\n",
      "Nishanth is a Dancer\n"
     ]
    }
   ],
   "source": [
    "c.salary(60000)\n",
    "c.artform('Dancer')"
   ]
  },
  {
   "cell_type": "markdown",
   "metadata": {},
   "source": [
    "Suppose say while inheriting a particular method is not suitable for the new class. One can override this method by defining again that method with the same name inside the new class."
   ]
  },
  {
   "cell_type": "code",
   "execution_count": 13,
   "metadata": {},
   "outputs": [],
   "source": [
    "class Artist(SoftwareEngineer):\n",
    "    def artform(self, job):\n",
    "        self.job = job\n",
    "        print(self.name,\"is a\", self.job)\n",
    "    def salary(self, value):\n",
    "        self.money = value\n",
    "        print(self.name,\"earns\",self.money)\n",
    "        print(\"I am overriding the SoftwareEngineer class's salary method\")"
   ]
  },
  {
   "cell_type": "code",
   "execution_count": 14,
   "metadata": {},
   "outputs": [],
   "source": [
    "c = Artist('Nishanth',21)"
   ]
  },
  {
   "cell_type": "code",
   "execution_count": 15,
   "metadata": {},
   "outputs": [
    {
     "name": "stdout",
     "output_type": "stream",
     "text": [
      "Nishanth earns 60000\n",
      "I am overriding the SoftwareEngineer class's salary method\n",
      "Nishanth is a Dancer\n"
     ]
    }
   ],
   "source": [
    "c.salary(60000)\n",
    "c.artform('Dancer')"
   ]
  },
  {
   "cell_type": "markdown",
   "metadata": {},
   "source": [
    "Many more things need to be explored in OOP. Keep exploring and post interesting things in Google group that is created for common discussions."
   ]
  },
  {
   "cell_type": "code",
   "execution_count": null,
   "metadata": {},
   "outputs": [],
   "source": []
  }
 ],
 "metadata": {
  "kernelspec": {
   "display_name": "Python 3",
   "language": "python",
   "name": "python3"
  },
  "language_info": {
   "codemirror_mode": {
    "name": "ipython",
    "version": 3
   },
   "file_extension": ".py",
   "mimetype": "text/x-python",
   "name": "python",
   "nbconvert_exporter": "python",
   "pygments_lexer": "ipython3",
   "version": "3.6.10"
  },
  "toc": {
   "base_numbering": 1,
   "nav_menu": {},
   "number_sections": true,
   "sideBar": true,
   "skip_h1_title": true,
   "title_cell": "Table of Contents",
   "title_sidebar": "Contents",
   "toc_cell": true,
   "toc_position": {},
   "toc_section_display": true,
   "toc_window_display": false
  }
 },
 "nbformat": 4,
 "nbformat_minor": 2
}
