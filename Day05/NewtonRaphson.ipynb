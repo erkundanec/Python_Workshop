{
 "cells": [
  {
   "cell_type": "code",
   "execution_count": 56,
   "metadata": {},
   "outputs": [
    {
     "name": "stdout",
     "output_type": "stream",
     "text": [
      "______________________________________________________________________________________\n"
     ]
    },
    {
     "data": {
      "image/png": "[encoded data removed]",
      "text/plain": [
       "<matplotlib.figure.Figure at 0x1cd11d3c5c0>"
      ]
     },
     "metadata": {},
     "output_type": "display_data"
    }
   ],
   "source": [
    "#!/usr/bin/python\n",
    "import matplotlib.pyplot as plt \n",
    "import numpy as np \n",
    "\n",
    "def f(x): return x**4 - 6.4*x**3 + 6.45*x**2 + 20.538*x - 31.752\n",
    "def df(x): return 4.0*x**3 - 19.2*x**2 + 12.9*x + 20.538\n",
    "\n",
    "def newtonRaphson(x,tol=1.0e-9):\n",
    "    print('______________________________________________________________________________________')\n",
    "    print('   i                x                       Error')\n",
    "    print('______________________________________________________________________________________')\n",
    "\n",
    "    for i in range(1, 31):\n",
    "        dx = -f(x)/df(x)\n",
    "        x = x + dx\n",
    "        print('  ', i, '       ',x,'       ',f(x))\n",
    "        print('---------------------------------------------------------------------------------------')\n",
    "        if abs(dx) < tol: return x,i\n",
    "        \n",
    "    print ('Too many iterations\\n')\n",
    "\n",
    "\n",
    "print('______________________________________________________________________________________')\n",
    "x = np.arange(0, 2*(np.pi), 0.1) \n",
    "y = f(x)\n",
    "\n",
    "# potting the points \n",
    "plt.plot(x,y)\n",
    "plt.grid()\n",
    "plt.xlabel('x', fontsize=18)\n",
    "plt.ylabel('''y = f(x) = x^4 - 6.4x^3 \n",
    "                  + 6.45x^2 + 20.538*x - 31.752''', fontsize=16)\n",
    "\n",
    "  \n",
    "# function to show the plot \n",
    "plt.show() "
   ]
  },
  {
   "cell_type": "code",
   "execution_count": 57,
   "metadata": {},
   "outputs": [
    {
     "name": "stdout",
     "output_type": "stream",
     "text": [
      "______________________________________________________________________________________\n",
      "   i                x                       Error\n",
      "______________________________________________________________________________________\n",
      "   1         2.300970873786405         -0.2814192169673113\n",
      "---------------------------------------------------------------------------------------\n",
      "   2         2.196879717551425         -0.06764123140137812\n",
      "---------------------------------------------------------------------------------------\n",
      "   3         2.1477149216640896         -0.016647999021220272\n",
      "---------------------------------------------------------------------------------------\n",
      "   4         2.123693232806911         -0.004132829929449855\n",
      "---------------------------------------------------------------------------------------\n",
      "   5         2.1118074582004         -0.0010297613367775682\n",
      "---------------------------------------------------------------------------------------\n",
      "   6         2.1058941646505622         -0.00025702137364547184\n",
      "---------------------------------------------------------------------------------------\n",
      "   7         2.102944718636603         -6.420369109250146e-05\n",
      "---------------------------------------------------------------------------------------\n",
      "   8         2.10147177178087         -1.6044510470436535e-05\n",
      "---------------------------------------------------------------------------------------\n",
      "   9         2.100735739426934         -4.010328840564625e-06\n",
      "---------------------------------------------------------------------------------------\n",
      "   10         2.1003678331493103         -1.0024825272125781e-06\n",
      "---------------------------------------------------------------------------------------\n",
      "   11         2.100183907440409         -2.506081777653435e-07\n",
      "---------------------------------------------------------------------------------------\n",
      "   12         2.1000919514394365         -6.265049989906402e-08\n",
      "---------------------------------------------------------------------------------------\n",
      "   13         2.10004597514412         -1.5662418917372634e-08\n",
      "---------------------------------------------------------------------------------------\n",
      "   14         2.100022987439037         -3.9155985120942205e-09\n",
      "---------------------------------------------------------------------------------------\n",
      "   15         2.10001149364521         -9.788863053472596e-10\n",
      "---------------------------------------------------------------------------------------\n",
      "   16         2.1000057468160995         -2.447251290504937e-10\n",
      "---------------------------------------------------------------------------------------\n",
      "   17         2.100002873363262         -6.117417683526583e-11\n",
      "---------------------------------------------------------------------------------------\n",
      "   18         2.1000014367829807         -1.5287326959878555e-11\n",
      "---------------------------------------------------------------------------------------\n",
      "   19         2.100000718835909         -3.82982534574694e-12\n",
      "---------------------------------------------------------------------------------------\n",
      "   20         2.1000003593340604         -9.627854069549358e-13\n",
      "---------------------------------------------------------------------------------------\n",
      "   21         2.1000001785404936         -2.3092638912203256e-13\n",
      "---------------------------------------------------------------------------------------\n",
      "   22         2.1000000912657337         -5.684341886080802e-14\n",
      "---------------------------------------------------------------------------------------\n",
      "   23         2.1000000492391337         -1.7763568394002505e-14\n",
      "---------------------------------------------------------------------------------------\n",
      "   24         2.100000024896273         -3.552713678800501e-15\n",
      "---------------------------------------------------------------------------------------\n",
      "   25         2.100000015267351         -7.105427357601002e-15\n",
      "---------------------------------------------------------------------------------------\n",
      "   26         2.0999999838638317         -1.0658141036401503e-14\n",
      "---------------------------------------------------------------------------------------\n",
      "   27         2.1000000284328237         -7.105427357601002e-15\n",
      "---------------------------------------------------------------------------------------\n",
      "   28         2.1000000115703217         0.0\n",
      "---------------------------------------------------------------------------------------\n",
      "   29         2.1000000115703217         0.0\n",
      "---------------------------------------------------------------------------------------\n",
      "Root = 2.1000000115703217\n",
      "Number of iterations = 29\n"
     ]
    }
   ],
   "source": [
    "root,numIter = newtonRaphson(3)\n",
    "print ('Root =',root)\n",
    "print ('Number of iterations =',numIter)"
   ]
  },
  {
   "cell_type": "code",
   "execution_count": null,
   "metadata": {},
   "outputs": [],
   "source": []
  }
 ],
 "metadata": {
  "kernelspec": {
   "display_name": "Python 3",
   "language": "python",
   "name": "python3"
  },
  "language_info": {
   "codemirror_mode": {
    "name": "ipython",
    "version": 3
   },
   "file_extension": ".py",
   "mimetype": "text/x-python",
   "name": "python",
   "nbconvert_exporter": "python",
   "pygments_lexer": "ipython3",
   "version": "3.6.4"
  }
 },
 "nbformat": 4,
 "nbformat_minor": 2
}
