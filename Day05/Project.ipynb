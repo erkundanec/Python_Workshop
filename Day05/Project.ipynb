{
 "cells": [
  {
   "cell_type": "markdown",
   "metadata": {
    "toc": true
   },
   "source": [
    "<h1>Table of Contents<span class=\"tocSkip\"></span></h1>\n",
    "<div class=\"toc\"><ul class=\"toc-item\"></ul></div>"
   ]
  },
  {
   "cell_type": "code",
   "execution_count": 6,
   "metadata": {},
   "outputs": [],
   "source": [
    "from sklearn.datasets import make_blobs\n",
    "from matplotlib import pyplot as plt\n",
    "import numpy as np\n",
    "import math\n",
    "\n",
    "# centers of the blobs\n",
    "centers = [(0,0),(5,5)]\n",
    "Variances = [4.0,4.0]\n",
    "stdDev = [math.sqrt(i) for i in Variances]\n",
    "    \n",
    "X,y = make_blobs(n_samples=40, n_features=2, centers=centers,cluster_std=stdDev,\n",
    "                  random_state=0)\n",
    "#y = y+1\n",
    "data = np.concatenate((X,np.reshape(y,(40,1))), axis=1)\n",
    "np.savetxt(\"project_data.txt\", data, fmt='%.4e', delimiter=' ') \n"
   ]
  },
  {
   "cell_type": "code",
   "execution_count": 3,
   "metadata": {},
   "outputs": [
    {
     "data": {
      "image/png": "[encoded data removed]",
      "text/plain": [
       "<Figure size 432x288 with 1 Axes>"
      ]
     },
     "metadata": {
      "needs_background": "light"
     },
     "output_type": "display_data"
    }
   ],
   "source": [
    "import numpy as np\n",
    "from matplotlib import pyplot as plt\n",
    "\n",
    "# Plotting training and test datasets\n",
    "\n",
    "_, ax = plt.subplots(figsize=(6, 4))\n",
    "ax.scatter(data[data[:,2] == 1][:,0], \n",
    "        data[data[:,2] == 1][:,1], \n",
    "        marker='o', color='green', s=40, alpha=0.5, label='class_1')\n",
    "ax.scatter(data[data[:,2] == 2][:,0], \n",
    "           data[data[:,2] == 2][:,1],\n",
    "           marker='^', color='red', s=40, alpha=0.5, label='class_2')\n",
    "\n",
    "plt.legend(loc='upper right') \n",
    "plt.ylabel('$x_2$', size=20)\n",
    "plt.xlabel('$x_1$', size=20)\n",
    "plt.show()"
   ]
  },
  {
   "cell_type": "code",
   "execution_count": 4,
   "metadata": {},
   "outputs": [],
   "source": [
    "import numpy as np\n",
    "np.random.seed(1234568)\n",
    "\n",
    "data = np.genfromtxt('project_data.txt', delimiter=' ')"
   ]
  },
  {
   "cell_type": "code",
   "execution_count": 5,
   "metadata": {},
   "outputs": [
    {
     "data": {
      "text/plain": [
       "(40, 3)"
      ]
     },
     "execution_count": 5,
     "metadata": {},
     "output_type": "execute_result"
    }
   ],
   "source": [
    "data.shape"
   ]
  },
  {
   "cell_type": "code",
   "execution_count": 77,
   "metadata": {},
   "outputs": [
    {
     "name": "stdout",
     "output_type": "stream",
     "text": [
      "[1. 2.]\n"
     ]
    }
   ],
   "source": [
    "unique, countClass = np.unique(data[:,2], return_counts=True) \n",
    "print(unique)"
   ]
  },
  {
   "cell_type": "code",
   "execution_count": 109,
   "metadata": {},
   "outputs": [],
   "source": [
    "#def splitData(data,ratio=0.5):\n",
    "testSize=0.5\n",
    "unique, countClass = np.unique(data[:,2], return_counts=True)    # count number of unique in array\n",
    "nClass = unique.size\n",
    "nTrain = np.int8(countClass*(1-testSize))                       # class label should be integer\n",
    "# classX = [[] for i in range(nClass)]\n",
    "# trainX = [[] for i in range(nClass)]\n",
    "# testX = [[] for i in range(nClass)]\n",
    "data = np.asarray(data)\n",
    "trainX = []\n",
    "testX = []\n",
    "for i in range(2):\n",
    "    classX = data[data[:,-1] == (i+1)]\n",
    "    trainX.append(classX[0:nTrain[i],:])\n",
    "    testX.append(classX[nTrain[i]:countClass[i]+1,:])\n",
    "\n",
    "# xTrain = trainX[:,1:-1]\n",
    "# yTrain = trainX[:,-1]\n",
    "# xTest = trainX[:,1:-1]\n",
    "# yTest = trainX[:,-1]\n",
    "# return xTrain,xTest,yTrain,yTest\n",
    "# xTrain = trainX[0]\n",
    "# xTest = testX[0]\n",
    "# for i in range(1,len(unique)):\n",
    "#     xTrain = np.append(xTrain,trainX[i],axis=0)\n",
    "#     xTest = np.append(xTest,testX[i],axis=0)\n",
    "# np.random.shuffle(xTrain)\n",
    "# np.random.shuffle(xTest)\n",
    "# yTrain = np.array(xTrain[:,-1],dtype = int)\n",
    "# yTrain = np.reshape(yTrain,[len(yTrain),])\n",
    "# yTest = np.array(xTest[:,-1],dtype = int)\n",
    "# yTest = np.reshape(yTest,[len(yTest),])\n",
    "# xTrain = xTrain[:,0:nFeature]\n",
    "# xTrain = np.array(xTrain)\n",
    "# xTest = xTest[:,0:nFeature]\n",
    "# xTest = np.array(xTest)\n",
    "# "
   ]
  },
  {
   "cell_type": "code",
   "execution_count": 110,
   "metadata": {},
   "outputs": [
    {
     "data": {
      "text/plain": [
       "[array([[-5.106  ,  1.3072 ,  1.     ],\n",
       "        [ 1.9575 ,  4.4818 ,  1.     ],\n",
       "        [ 0.88773,  0.66735,  1.     ],\n",
       "        [ 0.30989,  0.75633,  1.     ],\n",
       "        [ 1.5221 ,  0.24335,  1.     ],\n",
       "        [-1.7756 , -3.9616 ,  1.     ],\n",
       "        [ 0.62614, -1.7082 ,  1.     ],\n",
       "        [ 0.28809,  2.9085 ,  1.     ],\n",
       "        [ 2.4606 ,  2.4048 ,  1.     ],\n",
       "        [-0.69582,  0.3127 ,  1.     ]]), array([[1.5875, 8.9016, 2.    ],\n",
       "        [5.133 , 5.6049, 2.    ],\n",
       "        [4.9436, 5.8567, 2.    ],\n",
       "        [3.7314, 4.2745, 2.    ],\n",
       "        [2.4944, 6.555 , 2.    ],\n",
       "        [3.9807, 4.1239, 2.    ],\n",
       "        [3.1854, 5.1039, 2.    ],\n",
       "        [3.3737, 1.5474, 2.    ],\n",
       "        [1.7396, 5.9256, 2.    ],\n",
       "        [3.2091, 5.7738, 2.    ]])]"
      ]
     },
     "execution_count": 110,
     "metadata": {},
     "output_type": "execute_result"
    }
   ],
   "source": [
    "\n",
    "trainX\n"
   ]
  },
  {
   "cell_type": "code",
   "execution_count": 19,
   "metadata": {},
   "outputs": [
    {
     "ename": "ValueError",
     "evalue": "all the input array dimensions for the concatenation axis must match exactly, but along dimension 0, the array at index 0 has size 40 and the array at index 1 has size 1",
     "output_type": "error",
     "traceback": [
      "\u001b[0;31m---------------------------------------------------------------------------\u001b[0m",
      "\u001b[0;31mValueError\u001b[0m                                Traceback (most recent call last)",
      "\u001b[0;32m<ipython-input-19-e02ee9c2c4d1>\u001b[0m in \u001b[0;36m<module>\u001b[0;34m\u001b[0m\n\u001b[1;32m      2\u001b[0m \u001b[0mY\u001b[0m \u001b[0;34m=\u001b[0m \u001b[0mdata\u001b[0m\u001b[0;34m[\u001b[0m\u001b[0;34m:\u001b[0m\u001b[0;34m,\u001b[0m\u001b[0;34m-\u001b[0m\u001b[0;36m1\u001b[0m\u001b[0;34m]\u001b[0m\u001b[0;34m.\u001b[0m\u001b[0mreshape\u001b[0m\u001b[0;34m(\u001b[0m\u001b[0mlen\u001b[0m\u001b[0;34m(\u001b[0m\u001b[0mY\u001b[0m\u001b[0;34m)\u001b[0m\u001b[0;34m,\u001b[0m\u001b[0;36m1\u001b[0m\u001b[0;34m)\u001b[0m\u001b[0;34m\u001b[0m\u001b[0;34m\u001b[0m\u001b[0m\n\u001b[1;32m      3\u001b[0m \u001b[0mseed\u001b[0m \u001b[0;34m=\u001b[0m \u001b[0;36m10\u001b[0m\u001b[0;34m\u001b[0m\u001b[0;34m\u001b[0m\u001b[0m\n\u001b[0;32m----> 4\u001b[0;31m \u001b[0mxTrain\u001b[0m\u001b[0;34m,\u001b[0m\u001b[0mxTest\u001b[0m\u001b[0;34m,\u001b[0m\u001b[0myTrain\u001b[0m\u001b[0;34m,\u001b[0m\u001b[0myTest\u001b[0m \u001b[0;34m=\u001b[0m \u001b[0mTrainTestSplit\u001b[0m\u001b[0;34m(\u001b[0m\u001b[0mX\u001b[0m\u001b[0;34m,\u001b[0m \u001b[0mY\u001b[0m\u001b[0;34m,\u001b[0m\u001b[0mseed\u001b[0m\u001b[0;34m,\u001b[0m\u001b[0mtestSize\u001b[0m\u001b[0;34m=\u001b[0m\u001b[0;36m0.5\u001b[0m\u001b[0;34m)\u001b[0m\u001b[0;34m\u001b[0m\u001b[0;34m\u001b[0m\u001b[0m\n\u001b[0m",
      "\u001b[0;32m<ipython-input-11-9d9826473709>\u001b[0m in \u001b[0;36mTrainTestSplit\u001b[0;34m(X, Y, seed, testSize)\u001b[0m\n\u001b[1;32m      1\u001b[0m \u001b[0;32mdef\u001b[0m \u001b[0mTrainTestSplit\u001b[0m\u001b[0;34m(\u001b[0m\u001b[0mX\u001b[0m\u001b[0;34m,\u001b[0m \u001b[0mY\u001b[0m\u001b[0;34m,\u001b[0m\u001b[0mseed\u001b[0m\u001b[0;34m,\u001b[0m\u001b[0mtestSize\u001b[0m\u001b[0;34m=\u001b[0m\u001b[0;36m0.5\u001b[0m\u001b[0;34m)\u001b[0m\u001b[0;34m:\u001b[0m\u001b[0;34m\u001b[0m\u001b[0;34m\u001b[0m\u001b[0m\n\u001b[1;32m      2\u001b[0m     \u001b[0mnFeature\u001b[0m \u001b[0;34m=\u001b[0m \u001b[0mX\u001b[0m\u001b[0;34m.\u001b[0m\u001b[0mshape\u001b[0m\u001b[0;34m[\u001b[0m\u001b[0;36m1\u001b[0m\u001b[0;34m]\u001b[0m\u001b[0;34m\u001b[0m\u001b[0;34m\u001b[0m\u001b[0m\n\u001b[0;32m----> 3\u001b[0;31m     \u001b[0mX\u001b[0m \u001b[0;34m=\u001b[0m \u001b[0mnp\u001b[0m\u001b[0;34m.\u001b[0m\u001b[0mappend\u001b[0m\u001b[0;34m(\u001b[0m\u001b[0mX\u001b[0m\u001b[0;34m,\u001b[0m\u001b[0mnp\u001b[0m\u001b[0;34m.\u001b[0m\u001b[0mmatrix\u001b[0m\u001b[0;34m(\u001b[0m\u001b[0mY\u001b[0m\u001b[0;34m)\u001b[0m\u001b[0;34m.\u001b[0m\u001b[0mtranspose\u001b[0m\u001b[0;34m(\u001b[0m\u001b[0;34m)\u001b[0m\u001b[0;34m,\u001b[0m\u001b[0maxis\u001b[0m \u001b[0;34m=\u001b[0m \u001b[0;36m1\u001b[0m\u001b[0;34m)\u001b[0m\u001b[0;34m\u001b[0m\u001b[0;34m\u001b[0m\u001b[0m\n\u001b[0m\u001b[1;32m      4\u001b[0m     \u001b[0munique\u001b[0m\u001b[0;34m,\u001b[0m \u001b[0mcountClass\u001b[0m \u001b[0;34m=\u001b[0m \u001b[0mnp\u001b[0m\u001b[0;34m.\u001b[0m\u001b[0munique\u001b[0m\u001b[0;34m(\u001b[0m\u001b[0mY\u001b[0m\u001b[0;34m,\u001b[0m \u001b[0mreturn_counts\u001b[0m\u001b[0;34m=\u001b[0m\u001b[0;32mTrue\u001b[0m\u001b[0;34m)\u001b[0m    \u001b[0;31m# count number of unique in array\u001b[0m\u001b[0;34m\u001b[0m\u001b[0;34m\u001b[0m\u001b[0m\n\u001b[1;32m      5\u001b[0m     \u001b[0mnClass\u001b[0m \u001b[0;34m=\u001b[0m \u001b[0munique\u001b[0m\u001b[0;34m.\u001b[0m\u001b[0msize\u001b[0m\u001b[0;34m\u001b[0m\u001b[0;34m\u001b[0m\u001b[0m\n",
      "\u001b[0;32m<__array_function__ internals>\u001b[0m in \u001b[0;36mappend\u001b[0;34m(*args, **kwargs)\u001b[0m\n",
      "\u001b[0;32m~/anaconda3/envs/myOpenCV/lib/python3.6/site-packages/numpy/lib/function_base.py\u001b[0m in \u001b[0;36mappend\u001b[0;34m(arr, values, axis)\u001b[0m\n\u001b[1;32m   4698\u001b[0m         \u001b[0mvalues\u001b[0m \u001b[0;34m=\u001b[0m \u001b[0mravel\u001b[0m\u001b[0;34m(\u001b[0m\u001b[0mvalues\u001b[0m\u001b[0;34m)\u001b[0m\u001b[0;34m\u001b[0m\u001b[0;34m\u001b[0m\u001b[0m\n\u001b[1;32m   4699\u001b[0m         \u001b[0maxis\u001b[0m \u001b[0;34m=\u001b[0m \u001b[0marr\u001b[0m\u001b[0;34m.\u001b[0m\u001b[0mndim\u001b[0m\u001b[0;34m-\u001b[0m\u001b[0;36m1\u001b[0m\u001b[0;34m\u001b[0m\u001b[0;34m\u001b[0m\u001b[0m\n\u001b[0;32m-> 4700\u001b[0;31m     \u001b[0;32mreturn\u001b[0m \u001b[0mconcatenate\u001b[0m\u001b[0;34m(\u001b[0m\u001b[0;34m(\u001b[0m\u001b[0marr\u001b[0m\u001b[0;34m,\u001b[0m \u001b[0mvalues\u001b[0m\u001b[0;34m)\u001b[0m\u001b[0;34m,\u001b[0m \u001b[0maxis\u001b[0m\u001b[0;34m=\u001b[0m\u001b[0maxis\u001b[0m\u001b[0;34m)\u001b[0m\u001b[0;34m\u001b[0m\u001b[0;34m\u001b[0m\u001b[0m\n\u001b[0m\u001b[1;32m   4701\u001b[0m \u001b[0;34m\u001b[0m\u001b[0m\n\u001b[1;32m   4702\u001b[0m \u001b[0;34m\u001b[0m\u001b[0m\n",
      "\u001b[0;32m<__array_function__ internals>\u001b[0m in \u001b[0;36mconcatenate\u001b[0;34m(*args, **kwargs)\u001b[0m\n",
      "\u001b[0;31mValueError\u001b[0m: all the input array dimensions for the concatenation axis must match exactly, but along dimension 0, the array at index 0 has size 40 and the array at index 1 has size 1"
     ]
    }
   ],
   "source": [
    "X= data[:,:2]\n",
    "Y = data[:,-1].reshape(len(Y),1)\n",
    "seed = 10\n",
    "xTrain,xTest,yTrain,yTest = TrainTestSplit(X, Y,seed,testSize=0.5)"
   ]
  },
  {
   "cell_type": "code",
   "execution_count": null,
   "metadata": {},
   "outputs": [],
   "source": []
  }
 ],
 "metadata": {
  "kernelspec": {
   "display_name": "Python 3",
   "language": "python",
   "name": "python3"
  },
  "language_info": {
   "codemirror_mode": {
    "name": "ipython",
    "version": 3
   },
   "file_extension": ".py",
   "mimetype": "text/x-python",
   "name": "python",
   "nbconvert_exporter": "python",
   "pygments_lexer": "ipython3",
   "version": "3.6.10"
  },
  "toc": {
   "base_numbering": 1,
   "nav_menu": {},
   "number_sections": true,
   "sideBar": true,
   "skip_h1_title": true,
   "title_cell": "Table of Contents",
   "title_sidebar": "Contents",
   "toc_cell": true,
   "toc_position": {},
   "toc_section_display": true,
   "toc_window_display": false
  }
 },
 "nbformat": 4,
 "nbformat_minor": 2
}
