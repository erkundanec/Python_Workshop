{
 "cells": [
  {
   "cell_type": "markdown",
   "metadata": {
    "toc": true
   },
   "source": [
    "<h1>Table of Contents<span class=\"tocSkip\"></span></h1>\n",
    "<div class=\"toc\"><ul class=\"toc-item\"><li><span><a href=\"#Import-modules\" data-toc-modified-id=\"Import-modules-1\"><span class=\"toc-item-num\">1&nbsp;&nbsp;</span>Import modules</a></span></li><li><span><a href=\"#Load-data\" data-toc-modified-id=\"Load-data-2\"><span class=\"toc-item-num\">2&nbsp;&nbsp;</span>Load data</a></span></li><li><span><a href=\"#Plotting-training-and-test-data-samples\" data-toc-modified-id=\"Plotting-training-and-test-data-samples-3\"><span class=\"toc-item-num\">3&nbsp;&nbsp;</span>Plotting training and test data samples</a></span></li><li><span><a href=\"#Define-Class-for-kNN\" data-toc-modified-id=\"Define-Class-for-kNN-4\"><span class=\"toc-item-num\">4&nbsp;&nbsp;</span>Define Class for kNN</a></span></li></ul></div>"
   ]
  },
  {
   "cell_type": "markdown",
   "metadata": {},
   "source": [
    "## Import modules"
   ]
  },
  {
   "cell_type": "code",
   "execution_count": 1,
   "metadata": {},
   "outputs": [],
   "source": [
    "import numpy as np\n",
    "from matplotlib import pyplot as plt"
   ]
  },
  {
   "cell_type": "markdown",
   "metadata": {},
   "source": [
    "## Load data"
   ]
  },
  {
   "cell_type": "code",
   "execution_count": 30,
   "metadata": {},
   "outputs": [
    {
     "name": "stdout",
     "output_type": "stream",
     "text": [
      "(10, 3)\n",
      "(3, 2)\n"
     ]
    }
   ],
   "source": [
    "trainData = np.array([[2.78,  2.55,  0],\n",
    "                  [1.46,  2.36,  0],\n",
    "                  [3.39,  4.40,  0],\n",
    "                  [1.38,  1.85,  0],\n",
    "                  [3.06,  3.00,  0],\n",
    "                  [7.62,  2.75,  1],\n",
    "                  [5.33,  2.08,  1],\n",
    "                  [6.92,  1.77,  1],\n",
    "                  [8.67, -0.24,  1],\n",
    "                  [7.67,  3.50,  1]])\n",
    "\n",
    "testData = np.array([[3,  2],\n",
    "                 [4.4,2],\n",
    "                 [7,  2]])\n",
    "                 \n",
    "print(trainData.shape)\n",
    "print(testData.shape)"
   ]
  },
  {
   "cell_type": "markdown",
   "metadata": {},
   "source": [
    "## Plotting training and test data samples"
   ]
  },
  {
   "cell_type": "code",
   "execution_count": 31,
   "metadata": {},
   "outputs": [
    {
     "data": {
      "image/png": "[encoded data removed]",
      "text/plain": [
       "<Figure size 576x432 with 1 Axes>"
      ]
     },
     "metadata": {
      "needs_background": "light"
     },
     "output_type": "display_data"
    }
   ],
   "source": [
    "_, ax = plt.subplots(figsize=(8, 6))\n",
    "ax.scatter(trainData[trainData[:,2] == 0][:,0], \n",
    "        trainData[trainData[:,2] == 0][:,1], \n",
    "        marker='o', color='green', s=40, alpha=0.5, label='class_1')\n",
    "\n",
    "ax.scatter(trainData[trainData[:,2] == 1][:,0], \n",
    "           trainData[trainData[:,2] == 1][:,1],\n",
    "           marker='^', color='red', s=40, alpha=0.5, label='class_2')\n",
    "\n",
    "ax.scatter(testData[:,0], testData[:,1], \n",
    "        marker='s', color='blue', s=40, alpha=0.5, label='test')\n",
    "\n",
    "plt.legend(loc='lower left') \n",
    "plt.ylabel('$x_2$', size=14)\n",
    "plt.xlabel('$x_1$', size=14)\n",
    "plt.show()"
   ]
  },
  {
   "cell_type": "markdown",
   "metadata": {},
   "source": [
    "## Define Class for kNN"
   ]
  },
  {
   "cell_type": "code",
   "execution_count": 32,
   "metadata": {},
   "outputs": [],
   "source": [
    "from math import sqrt\n",
    "import numpy as np\n",
    "\n",
    "class kNN():\n",
    "    def __init__(self,k=1):\n",
    "        self.k = k\n",
    "        \n",
    "    # calculating Euclidean distance\n",
    "    def euclideanDistance(self, row1, row2):\n",
    "        distance = 0.0\n",
    "        for i in range(len(row1)):            \n",
    "            distance += (row1[i] - row2[i])**2\n",
    "        return sqrt(distance)\n",
    "\n",
    "    # Locate the most similar neighbors\n",
    "    def getNeighbors(self, train, testRow):\n",
    "        distances = list()\n",
    "        for trainRow in train:\n",
    "            dist = self.euclideanDistance(testRow, trainRow[:-1])\n",
    "            distances.append((trainRow, dist))\n",
    "            \n",
    "        distances.sort(key=lambda tup: tup[1])\n",
    "        neighbors = list()\n",
    "        for i in range(self.k):\n",
    "            neighbors.append(distances[i][0])\n",
    "        return neighbors\n",
    "    \n",
    "    # Make a classification prediction with neighbors\n",
    "    def predictClass(self,train, testRow):\n",
    "        neighbors = self.getNeighbors(train, testRow)\n",
    "        outputValues = [row[-1] for row in neighbors]\n",
    "        prediction = max(set(outputValues), key=outputValues.count)\n",
    "        return prediction"
   ]
  },
  {
   "cell_type": "code",
   "execution_count": 34,
   "metadata": {},
   "outputs": [
    {
     "name": "stdout",
     "output_type": "stream",
     "text": [
      "Predicted Class is  0.0\n"
     ]
    }
   ],
   "source": [
    "instance = kNN(k=3)\n",
    "prediction = instance.predictClass(trainData, testData[1])\n",
    "print(\"Predicted Class is \",prediction)"
   ]
  },
  {
   "cell_type": "code",
   "execution_count": null,
   "metadata": {},
   "outputs": [],
   "source": []
  }
 ],
 "metadata": {
  "kernelspec": {
   "display_name": "Python 3",
   "language": "python",
   "name": "python3"
  },
  "language_info": {
   "codemirror_mode": {
    "name": "ipython",
    "version": 3
   },
   "file_extension": ".py",
   "mimetype": "text/x-python",
   "name": "python",
   "nbconvert_exporter": "python",
   "pygments_lexer": "ipython3",
   "version": "3.6.10"
  },
  "toc": {
   "base_numbering": 1,
   "nav_menu": {},
   "number_sections": true,
   "sideBar": true,
   "skip_h1_title": true,
   "title_cell": "Table of Contents",
   "title_sidebar": "Contents",
   "toc_cell": true,
   "toc_position": {},
   "toc_section_display": true,
   "toc_window_display": false
  }
 },
 "nbformat": 4,
 "nbformat_minor": 2
}
